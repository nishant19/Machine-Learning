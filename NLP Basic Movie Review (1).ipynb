{
 "cells": [
  {
   "cell_type": "code",
   "execution_count": 2,
   "metadata": {
    "collapsed": true
   },
   "outputs": [],
   "source": [
    "from nltk.tokenize import sent_tokenize, word_tokenize"
   ]
  },
  {
   "cell_type": "code",
   "execution_count": 3,
   "metadata": {
    "collapsed": true
   },
   "outputs": [],
   "source": [
    "SAMPLE_TEXT = \"This is an example text? Let's see how it works.\""
   ]
  },
  {
   "cell_type": "code",
   "execution_count": 4,
   "metadata": {},
   "outputs": [
    {
     "data": {
      "text/plain": [
       "['This is an example text?', \"Let's see how it works.\"]"
      ]
     },
     "execution_count": 4,
     "metadata": {},
     "output_type": "execute_result"
    }
   ],
   "source": [
    "sent_tokenize(SAMPLE_TEXT)"
   ]
  },
  {
   "cell_type": "code",
   "execution_count": 11,
   "metadata": {
    "collapsed": true
   },
   "outputs": [],
   "source": [
    "words = word_tokenize(SAMPLE_TEXT)"
   ]
  },
  {
   "cell_type": "code",
   "execution_count": 6,
   "metadata": {
    "collapsed": true
   },
   "outputs": [],
   "source": [
    "from nltk.corpus import stopwords"
   ]
  },
  {
   "cell_type": "code",
   "execution_count": 7,
   "metadata": {
    "collapsed": true
   },
   "outputs": [],
   "source": [
    "stops = set(stopwords.words('english'))"
   ]
  },
  {
   "cell_type": "code",
   "execution_count": 10,
   "metadata": {},
   "outputs": [
    {
     "data": {
      "text/plain": [
       "{'a',\n",
       " 'about',\n",
       " 'above',\n",
       " 'after',\n",
       " 'again',\n",
       " 'against',\n",
       " 'ain',\n",
       " 'all',\n",
       " 'am',\n",
       " 'an',\n",
       " 'and',\n",
       " 'any',\n",
       " 'are',\n",
       " 'aren',\n",
       " 'as',\n",
       " 'at',\n",
       " 'be',\n",
       " 'because',\n",
       " 'been',\n",
       " 'before',\n",
       " 'being',\n",
       " 'below',\n",
       " 'between',\n",
       " 'both',\n",
       " 'but',\n",
       " 'by',\n",
       " 'can',\n",
       " 'couldn',\n",
       " 'd',\n",
       " 'did',\n",
       " 'didn',\n",
       " 'do',\n",
       " 'does',\n",
       " 'doesn',\n",
       " 'doing',\n",
       " 'don',\n",
       " 'down',\n",
       " 'during',\n",
       " 'each',\n",
       " 'few',\n",
       " 'for',\n",
       " 'from',\n",
       " 'further',\n",
       " 'had',\n",
       " 'hadn',\n",
       " 'has',\n",
       " 'hasn',\n",
       " 'have',\n",
       " 'haven',\n",
       " 'having',\n",
       " 'he',\n",
       " 'her',\n",
       " 'here',\n",
       " 'hers',\n",
       " 'herself',\n",
       " 'him',\n",
       " 'himself',\n",
       " 'his',\n",
       " 'how',\n",
       " 'i',\n",
       " 'if',\n",
       " 'in',\n",
       " 'into',\n",
       " 'is',\n",
       " 'isn',\n",
       " 'it',\n",
       " 'its',\n",
       " 'itself',\n",
       " 'just',\n",
       " 'll',\n",
       " 'm',\n",
       " 'ma',\n",
       " 'me',\n",
       " 'mightn',\n",
       " 'more',\n",
       " 'most',\n",
       " 'mustn',\n",
       " 'my',\n",
       " 'myself',\n",
       " 'needn',\n",
       " 'no',\n",
       " 'nor',\n",
       " 'not',\n",
       " 'now',\n",
       " 'o',\n",
       " 'of',\n",
       " 'off',\n",
       " 'on',\n",
       " 'once',\n",
       " 'only',\n",
       " 'or',\n",
       " 'other',\n",
       " 'our',\n",
       " 'ours',\n",
       " 'ourselves',\n",
       " 'out',\n",
       " 'over',\n",
       " 'own',\n",
       " 're',\n",
       " 's',\n",
       " 'same',\n",
       " 'shan',\n",
       " 'she',\n",
       " 'should',\n",
       " 'shouldn',\n",
       " 'so',\n",
       " 'some',\n",
       " 'such',\n",
       " 't',\n",
       " 'than',\n",
       " 'that',\n",
       " 'the',\n",
       " 'their',\n",
       " 'theirs',\n",
       " 'them',\n",
       " 'themselves',\n",
       " 'then',\n",
       " 'there',\n",
       " 'these',\n",
       " 'they',\n",
       " 'this',\n",
       " 'those',\n",
       " 'through',\n",
       " 'to',\n",
       " 'too',\n",
       " 'under',\n",
       " 'until',\n",
       " 'up',\n",
       " 've',\n",
       " 'very',\n",
       " 'was',\n",
       " 'wasn',\n",
       " 'we',\n",
       " 'were',\n",
       " 'weren',\n",
       " 'what',\n",
       " 'when',\n",
       " 'where',\n",
       " 'which',\n",
       " 'while',\n",
       " 'who',\n",
       " 'whom',\n",
       " 'why',\n",
       " 'will',\n",
       " 'with',\n",
       " 'won',\n",
       " 'wouldn',\n",
       " 'y',\n",
       " 'you',\n",
       " 'your',\n",
       " 'yours',\n",
       " 'yourself',\n",
       " 'yourselves'}"
      ]
     },
     "execution_count": 10,
     "metadata": {},
     "output_type": "execute_result"
    }
   ],
   "source": [
    "stops"
   ]
  },
  {
   "cell_type": "code",
   "execution_count": 19,
   "metadata": {
    "collapsed": true
   },
   "outputs": [],
   "source": [
    "lower_text = SAMPLE_TEXT.lower()\n",
    "lower_text = word_tokenize(lower_text)"
   ]
  },
  {
   "cell_type": "code",
   "execution_count": 20,
   "metadata": {
    "collapsed": true
   },
   "outputs": [],
   "source": [
    "clean_wrods = [w for w in lower_text if not w in stops]"
   ]
  },
  {
   "cell_type": "code",
   "execution_count": 21,
   "metadata": {},
   "outputs": [
    {
     "data": {
      "text/plain": [
       "['example', 'text', '?', 'let', \"'s\", 'see', 'works', '.']"
      ]
     },
     "execution_count": 21,
     "metadata": {},
     "output_type": "execute_result"
    }
   ],
   "source": [
    "clean_wrods"
   ]
  },
  {
   "cell_type": "markdown",
   "metadata": {},
   "source": [
    "stem_words"
   ]
  },
  {
   "cell_type": "code",
   "execution_count": 22,
   "metadata": {},
   "outputs": [
    {
     "name": "stdout",
     "output_type": "stream",
     "text": [
      "play\n",
      "play\n",
      "play\n",
      "player\n"
     ]
    }
   ],
   "source": [
    "stem_words = [\"play\", \"played\", \"playing\", \"player\"]\n",
    "from nltk.stem import  PorterStemmer\n",
    "ps = PorterStemmer()\n",
    "for w in stem_words:\n",
    "    print(ps.stem(w))"
   ]
  },
  {
   "cell_type": "code",
   "execution_count": 23,
   "metadata": {},
   "outputs": [
    {
     "name": "stdout",
     "output_type": "stream",
     "text": [
      "imperfect\n",
      "perfect\n"
     ]
    }
   ],
   "source": [
    "words = [\"imperfect\", \"perfect\"]\n",
    "ps = PorterStemmer()\n",
    "for w in words:\n",
    "    print(ps.stem(w))"
   ]
  },
  {
   "cell_type": "code",
   "execution_count": 24,
   "metadata": {
    "collapsed": true
   },
   "outputs": [],
   "source": [
    "from nltk import pos_tag\n",
    "from nltk.corpus import state_union"
   ]
  },
  {
   "cell_type": "code",
   "execution_count": 25,
   "metadata": {
    "collapsed": true
   },
   "outputs": [],
   "source": [
    "text = state_union.raw(\"2006-GWBush.txt\")"
   ]
  },
  {
   "cell_type": "code",
   "execution_count": 26,
   "metadata": {},
   "outputs": [
    {
     "data": {
      "text/plain": [
       "'PRESIDENT GEORGE W. BUSH\\'S ADDRESS BEFORE A JOINT SESSION OF THE CONGRESS ON THE STATE OF THE UNION\\n \\nJanuary 31, 2006\\n\\nTHE PRESIDENT: Thank you all. Mr. Speaker, Vice President Cheney, members of Congress, members of the Supreme Court and diplomatic corps, distinguished guests, and fellow citizens: Today our nation lost a beloved, graceful, courageous woman who called America to its founding ideals and carried on a noble dream. Tonight we are comforted by the hope of a glad reunion with the husband who was taken so long ago, and we are grateful for the good life of Coretta Scott King. (Applause.)\\n\\nPresident George W. Bush reacts to applause during his State of the Union Address at the Capitol, Tuesday, Jan. 31, 2006. White House photo by Eric DraperEvery time I\\'m invited to this rostrum, I\\'m humbled by the privilege, and mindful of the history we\\'ve seen together. We have gathered under this Capitol dome in moments of national mourning and national achievement. We have served America through one of the most consequential periods of our history -- and it has been my honor to serve with you.\\n\\nIn a system of two parties, two chambers, and two elected branches, there will always be differences and debate. But even tough debates can be conducted in a civil tone, and our differences cannot be allowed to harden into anger. To confront the great issues before us, we must act in a spirit of goodwill and respect for one another -- and I will do my part. Tonight the state of our Union is strong -- and together we will make it stronger. (Applause.)\\n\\nIn this decisive year, you and I will make choices that determine both the future and the character of our country. We will choose to act confidently in pursuing the enemies of freedom -- or retreat from our duties in the hope of an easier life. We will choose to build our prosperity by leading the world economy -- or shut ourselves off from trade and opportunity. In a complex and challenging time, the road of isolationism and protectionism may seem broad and inviting -- yet it ends in danger and decline. The only way to protect our people, the only way to secure the peace, the only way to control our destiny is by our leadership -- so the United States of America will continue to lead. (Applause.)\\n\\nAbroad, our nation is committed to an historic, long-term goal -- we seek the end of tyranny in our world. Some dismiss that goal as misguided idealism. In reality, the future security of America depends on it. On September the 11th, 2001, we found that problems originating in a failed and oppressive state 7,000 miles away could bring murder and destruction to our country. Dictatorships shelter terrorists, and feed resentment and radicalism, and seek weapons of mass destruction. Democracies replace resentment with hope, respect the rights of their citizens and their neighbors, and join the fight against terror. Every step toward freedom in the world makes our country safer -- so we will act boldly in freedom\\'s cause. (Applause.)\\n\\nFar from being a hopeless dream, the advance of freedom is the great story of our time. In 1945, there were about two dozen lonely democracies in the world. Today, there are 122. And we\\'re writing a new chapter in the story of self-government -- with women lining up to vote in Afghanistan, and millions of Iraqis marking their liberty with purple ink, and men and women from Lebanon to Egypt debating the rights of individuals and the necessity of freedom. At the start of 2006, more than half the people of our world live in democratic nations. And we do not forget the other half -- in places like Syria and Burma, Zimbabwe, North Korea, and Iran -- because the demands of justice, and the peace of this world, require their freedom, as well. (Applause.)\\n\\nPresident George W. Bush delivers his State of the Union Address at the Capitol, Tuesday, Jan. 31, 2006. White House photo by Eric Draper No one can deny the success of freedom, but some men rage and fight against it. And one of the main sources of reaction and opposition is radical Islam -- the perversion by a few of a noble faith into an ideology of terror and death. Terrorists like bin Laden are serious about mass murder -- and all of us must take their declared intentions seriously. They seek to impose a heartless system of totalitarian control throughout the Middle East, and arm themselves with weapons of mass murder.\\n\\nTheir aim is to seize power in Iraq, and use it as a safe haven to launch attacks against America and the world. Lacking the military strength to challenge us directly, the terrorists have chosen the weapon of fear. When they murder children at a school in Beslan, or blow up commuters in London, or behead a bound captive, the terrorists hope these horrors will break our will, allowing the violent to inherit the Earth. But they have miscalculated: We love our freedom, and we will fight to keep it. (Applause.)\\n\\nIn a time of testing, we cannot find security by abandoning our commitments and retreating within our borders. If we were to leave these vicious attackers alone, they would not leave us alone. They would simply move the battlefield to our own shores. There is no peace in retreat. And there is no honor in retreat. By allowing radical Islam to work its will -- by leaving an assaulted world to fend for itself -- we would signal to all that we no longer believe in our own ideals, or even in our own courage. But our enemies and our friends can be certain: The United States will not retreat from the world, and we will never surrender to evil. (Applause.)\\n\\nAmerica rejects the false comfort of isolationism. We are the nation that saved liberty in Europe, and liberated death camps, and helped raise up democracies, and faced down an evil empire. Once again, we accept the call of history to deliver the oppressed and move this world toward peace. We remain on the offensive against terror networks. We have killed or captured many of their leaders -- and for the others, their day will come.\\n\\nPresident George W. Bush greets members of Congress after his State of the Union Address at the Capitol, Tuesday, Jan. 31, 2006. White House photo by Eric Draper We remain on the offensive in Afghanistan, where a fine President and a National Assembly are fighting terror while building the institutions of a new democracy. We\\'re on the offensive in Iraq, with a clear plan for victory. First, we\\'re helping Iraqis build an inclusive government, so that old resentments will be eased and the insurgency will be marginalized.\\n\\nSecond, we\\'re continuing reconstruction efforts, and helping the Iraqi government to fight corruption and build a modern economy, so all Iraqis can experience the benefits of freedom. And, third, we\\'re striking terrorist targets while we train Iraqi forces that are increasingly capable of defeating the enemy. Iraqis are showing their courage every day, and we are proud to be their allies in the cause of freedom. (Applause.)\\n\\nOur work in Iraq is difficult because our enemy is brutal. But that brutality has not stopped the dramatic progress of a new democracy. In less than three years, the nation has gone from dictatorship to liberation, to sovereignty, to a constitution, to national elections. At the same time, our coalition has been relentless in shutting off terrorist infiltration, clearing out insurgent strongholds, and turning over territory to Iraqi security forces. I am confident in our plan for victory; I am confident in the will of the Iraqi people; I am confident in the skill and spirit of our military. Fellow citizens, we are in this fight to win, and we are winning. (Applause.)\\n\\nThe road of victory is the road that will take our troops home. As we make progress on the ground, and Iraqi forces increasingly take the lead, we should be able to further decrease our troop levels -- but those decisions will be made by our military commanders, not by politicians in Washington, D.C. (Applause.)\\n\\nOur coalition has learned from our experience in Iraq. We\\'ve adjusted our military tactics and changed our approach to reconstruction. Along the way, we have benefitted from responsible criticism and counsel offered by members of Congress of both parties. In the coming year, I will continue to reach out and seek your good advice. Yet, there is a difference between responsible criticism that aims for success, and defeatism that refuses to acknowledge anything but failure. (Applause.) Hindsight alone is not wisdom, and second-guessing is not a strategy. (Applause.)\\n\\nWith so much in the balance, those of us in public office have a duty to speak with candor. A sudden withdrawal of our forces from Iraq would abandon our Iraqi allies to death and prison, would put men like bin Laden and Zarqawi in charge of a strategic country, and show that a pledge from America means little. Members of Congress, however we feel about the decisions and debates of the past, our nation has only one option: We must keep our word, defeat our enemies, and stand behind the American military in this vital mission. (Applause.)\\n\\nLaura Bush is applauded as she is introduced Tuesday evening, Jan. 31, 2006 during the State of the Union Address at United States Capitol in Washington. White House photo by Eric Draper Our men and women in uniform are making sacrifices -- and showing a sense of duty stronger than all fear. They know what it\\'s like to fight house to house in a maze of streets, to wear heavy gear in the desert heat, to see a comrade killed by a roadside bomb. And those who know the costs also know the stakes. Marine Staff Sergeant Dan Clay was killed last month fighting in Fallujah. He left behind a letter to his family, but his words could just as well be addressed to every American. Here is what Dan wrote: \"I know what honor is. ... It has been an honor to protect and serve all of you. I faced death with the secure knowledge that you would not have to.... Never falter! Don\\'t hesitate to honor and support those of us who have the honor of protecting that which is worth protecting.\"\\n\\nStaff Sergeant Dan Clay\\'s wife, Lisa, and his mom and dad, Sara Jo and Bud, are with us this evening. Welcome. (Applause.)\\n\\nOur nation is grateful to the fallen, who live in the memory of our country. We\\'re grateful to all who volunteer to wear our nation\\'s uniform -- and as we honor our brave troops, let us never forget the sacrifices of America\\'s military families. (Applause.)\\n\\nOur offensive against terror involves more than military action. Ultimately, the only way to defeat the terrorists is to defeat their dark vision of hatred and fear by offering the hopeful alternative of political freedom and peaceful change. So the United States of America supports democratic reform across the broader Middle East. Elections are vital, but they are only the beginning. Raising up a democracy requires the rule of law, and protection of minorities, and strong, accountable institutions that last longer than a single vote.\\n\\nThe great people of Egypt have voted in a multi-party presidential election -- and now their government should open paths of peaceful opposition that will reduce the appeal of radicalism. The Palestinian people have voted in elections. And now the leaders of Hamas must recognize Israel, disarm, reject terrorism, and work for lasting peace. (Applause.) Saudi Arabia has taken the first steps of reform -- now it can offer its people a better future by pressing forward with those efforts. Democracies in the Middle East will not look like our own, because they will reflect the traditions of their own citizens. Yet liberty is the future of every nation in the Middle East, because liberty is the right and hope of all humanity. (Applause.)\\n\\nPresident George W. Bush waves toward the upper visitors gallery of the House Chamber following his State of the Union remarks Tuesday, Jan. 31, 2006 at the United States Capitol. White House photo by Eric Draper The same is true of Iran, a nation now held hostage by a small clerical elite that is isolating and repressing its people. The regime in that country sponsors terrorists in the Palestinian territories and in Lebanon -- and that must come to an end. (Applause.) The Iranian government is defying the world with its nuclear ambitions, and the nations of the world must not permit the Iranian regime to gain nuclear weapons. (Applause.) America will continue to rally the world to confront these threats.\\n\\nTonight, let me speak directly to the citizens of Iran: America respects you, and we respect your country. We respect your right to choose your own future and win your own freedom. And our nation hopes one day to be the closest of friends with a free and democratic Iran. (Applause.)\\n\\nTo overcome dangers in our world, we must also take the offensive by encouraging economic progress, and fighting disease, and spreading hope in hopeless lands. Isolationism would not only tie our hands in fighting enemies, it would keep us from helping our friends in desperate need. We show compassion abroad because Americans believe in the God-given dignity and worth of a villager with HIV/AIDS, or an infant with malaria, or a refugee fleeing genocide, or a young girl sold into slavery. We also show compassion abroad because regions overwhelmed by poverty, corruption, and despair are sources of terrorism, and organized crime, and human trafficking, and the drug trade.\\n\\nIn recent years, you and I have taken unprecedented action to fight AIDS and malaria, expand the education of girls, and reward developing nations that are moving forward with economic and political reform. For people everywhere, the United States is a partner for a better life. Short-changing these efforts would increase the suffering and chaos of our world, undercut our long-term security, and dull the conscience of our country. I urge members of Congress to serve the interests of America by showing the compassion of America.\\n\\nOur country must also remain on the offensive against terrorism here at home. The enemy has not lost the desire or capability to attack us. Fortunately, this nation has superb professionals in law enforcement, intelligence, the military, and homeland security. These men and women are dedicating their lives, protecting us all, and they deserve our support and our thanks. (Applause.) They also deserve the same tools they already use to fight drug trafficking and organized crime -- so I ask you to reauthorize the Patriot Act. (Applause.)\\n\\nIt is said that prior to the attacks of September the 11th, our government failed to connect the dots of the conspiracy. We now know that two of the hijackers in the United States placed telephone calls to al Qaeda operatives overseas. But we did not know about their plans until it was too late. So to prevent another attack -- based on authority given to me by the Constitution and by statute -- I have authorized a terrorist surveillance program to aggressively pursue the international communications of suspected al Qaeda operatives and affiliates to and from America. Previous Presidents have used the same constitutional authority I have, and federal courts have approved the use of that authority. Appropriate members of Congress have been kept informed. The terrorist surveillance program has helped prevent terrorist attacks. It remains essential to the security of America. If there are people inside our country who are talking with al Qaeda, we want to know about it, because we will not sit back and wait to be hit again. (Applause.)\\n\\nIn all these areas -- from the disruption of terror networks, to victory in Iraq, to the spread of freedom and hope in troubled regions -- we need the support of our friends and allies. To draw that support, we must always be clear in our principles and willing to act. The only alternative to American leadership is a dramatically more dangerous and anxious world. Yet we also choose to lead because it is a privilege to serve the values that gave us birth. American leaders -- from Roosevelt to Truman to Kennedy to Reagan -- rejected isolation and retreat, because they knew that America is always more secure when freedom is on the march.\\n\\nOur own generation is in a long war against a determined enemy -- a war that will be fought by Presidents of both parties, who will need steady bipartisan support from the Congress. And tonight I ask for yours. Together, let us protect our country, support the men and women who defend us, and lead this world toward freedom. (Applause.)\\n\\nHere at home, America also has a great opportunity: We will build the prosperity of our country by strengthening our economic leadership in the world.\\n\\nOur economy is healthy and vigorous, and growing faster than other major industrialized nations. In the last two-and-a-half years, America has created 4.6 million new jobs -- more than Japan and the European Union combined. (Applause.) Even in the face of higher energy prices and natural disasters, the American people have turned in an economic performance that is the envy of the world.\\n\\nThe American economy is preeminent, but we cannot afford to be complacent. In a dynamic world economy, we are seeing new competitors, like China and India, and this creates uncertainty, which makes it easier to feed people\\'s fears. So we\\'re seeing some old temptations return. Protectionists want to escape competition, pretending that we can keep our high standard of living while walling off our economy. Others say that the government needs to take a larger role in directing the economy, centralizing more power in Washington and increasing taxes. We hear claims that immigrants are somehow bad for the economy -- even though this economy could not function without them. (Applause.) All these are forms of economic retreat, and they lead in the same direction -- toward a stagnant and second-rate economy.\\n\\nTonight I will set out a better path: an agenda for a nation that competes with confidence; an agenda that will raise standards of living and generate new jobs. Americans should not fear our economic future, because we intend to shape it.\\n\\nKeeping America competitive begins with keeping our economy growing. And our economy grows when Americans have more of their own money to spend, save, and invest. In the last five years, the tax relief you passed has left $880 billion in the hands of American workers, investors, small businesses, and families -- and they have used it to help produce more than four years of uninterrupted economic growth. (Applause.) Yet the tax relief is set to expire in the next few years. If we do nothing, American families will face a massive tax increase they do not expect and will not welcome. Because America needs more than a temporary expansion, we need more than temporary tax relief. I urge the Congress to act responsibly, and make the tax cuts permanent. (Applause.)\\n\\nKeeping America competitive requires us to be good stewards of tax dollars. Every year of my presidency, we\\'ve reduced the growth of non-security discretionary spending, and last year you passed bills that cut this spending. This year my budget will cut it again, and reduce or eliminate more than 140 programs that are performing poorly or not fulfilling essential priorities. By passing these reforms, we will save the American taxpayer another $14 billion next year, and stay on track to cut the deficit in half by 2009. (Applause.)\\n\\nI am pleased that members of Congress are working on earmark reform, because the federal budget has too many special interest projects. (Applause.) And we can tackle this problem together, if you pass the line-item veto. (Applause.)\\n\\nWe must also confront the larger challenge of mandatory spending, or entitlements. This year, the first of about 78 million baby boomers turn 60, including two of my Dad\\'s favorite people -- me and President Clinton. (Laughter.) This milestone is more than a personal crisis -- (laughter) -- it is a national challenge. The retirement of the baby boom generation will put unprecedented strains on the federal government. By 2030, spending for Social Security, Medicare and Medicaid alone will be almost 60 percent of the entire federal budget. And that will present future Congresses with impossible choices -- staggering tax increases, immense deficits, or deep cuts in every category of spending. Congress did not act last year on my proposal to save Social Security -- (applause) -- yet the rising cost of entitlements is a problem that is not going away. (Applause.) And every year we fail to act, the situation gets worse.\\n\\nSo tonight, I ask you to join me in creating a commission to examine the full impact of baby boom retirements on Social Security, Medicare, and Medicaid. This commission should include members of Congress of both parties, and offer bipartisan solutions. We need to put aside partisan politics and work together and get this problem solved. (Applause.)\\n\\nKeeping America competitive requires us to open more markets for all that Americans make and grow. One out of every five factory jobs in America is related to global trade, and we want people everywhere to buy American. With open markets and a level playing field, no one can out-produce or out-compete the American worker. (Applause.)\\n\\nKeeping America competitive requires an immigration system that upholds our laws, reflects our values, and serves the interests of our economy. Our nation needs orderly and secure borders. (Applause.) To meet this goal, we must have stronger immigration enforcement and border protection. (Applause.) And we must have a rational, humane guest worker program that rejects amnesty, allows temporary jobs for people who seek them legally, and reduces smuggling and crime at the border. (Applause.)\\n\\nKeeping America competitive requires affordable health care. (Applause.) Our government has a responsibility to provide health care for the poor and the elderly, and we are meeting that responsibility. (Applause.) For all Americans -- for all Americans, we must confront the rising cost of care, strengthen the doctor-patient relationship, and help people afford the insurance coverage they need. (Applause.)\\n\\nWe will make wider use of electronic records and other health information technology, to help control costs and reduce dangerous medical errors. We will strengthen health savings accounts -- making sure individuals and small business employees can buy insurance with the same advantages that people working for big businesses now get. (Applause.) We will do more to make this coverage portable, so workers can switch jobs without having to worry about losing their health insurance. (Applause.) And because lawsuits are driving many good doctors out of practice -- leaving women in nearly 1,500 American counties without a single OB/GYN -- I ask the Congress to pass medical liability reform this year. (Applause.)\\n\\nKeeping America competitive requires affordable energy. And here we have a serious problem: America is addicted to oil, which is often imported from unstable parts of the world. The best way to break this addiction is through technology. Since 2001, we have spent nearly $10 billion to develop cleaner, cheaper, and more reliable alternative energy sources -- and we are on the threshold of incredible advances.\\n\\nSo tonight, I announce the Advanced Energy Initiative -- a 22-percent increase in clean-energy research -- at the Department of Energy, to push for breakthroughs in two vital areas. To change how we power our homes and offices, we will invest more in zero-emission coal-fired plants, revolutionary solar and wind technologies, and clean, safe nuclear energy. (Applause.)\\n\\nWe must also change how we power our automobiles. We will increase our research in better batteries for hybrid and electric cars, and in pollution-free cars that run on hydrogen. We\\'ll also fund additional research in cutting-edge methods of producing ethanol, not just from corn, but from wood chips and stalks, or switch grass. Our goal is to make this new kind of ethanol practical and competitive within six years. (Applause.)\\n\\nBreakthroughs on this and other new technologies will help us reach another great goal: to replace more than 75 percent of our oil imports from the Middle East by 2025. (Applause.) By applying the talent and technology of America, this country can dramatically improve our environment, move beyond a petroleum-based economy, and make our dependence on Middle Eastern oil a thing of the past. (Applause.)\\n\\nAnd to keep America competitive, one commitment is necessary above all: We must continue to lead the world in human talent and creativity. Our greatest advantage in the world has always been our educated, hardworking, ambitious people -- and we\\'re going to keep that edge. Tonight I announce an American Competitiveness Initiative, to encourage innovation throughout our economy, and to give our nation\\'s children a firm grounding in math and science. (Applause.)\\n\\nFirst, I propose to double the federal commitment to the most critical basic research programs in the physical sciences over the next 10 years. This funding will support the work of America\\'s most creative minds as they explore promising areas such as nanotechnology, supercomputing, and alternative energy sources.\\n\\nSecond, I propose to make permanent the research and development tax credit -- (applause) -- to encourage bolder private-sector initiatives in technology. With more research in both the public and private sectors, we will improve our quality of life -- and ensure that America will lead the world in opportunity and innovation for decades to come. (Applause.)\\n\\nThird, we need to encourage children to take more math and science, and to make sure those courses are rigorous enough to compete with other nations. We\\'ve made a good start in the early grades with the No Child Left Behind Act, which is raising standards and lifting test scores across our country. Tonight I propose to train 70,000 high school teachers to lead advanced-placement courses in math and science, bring 30,000 math and science professionals to teach in classrooms, and give early help to students who struggle with math, so they have a better chance at good, high-wage jobs. If we ensure that America\\'s children succeed in life, they will ensure that America succeeds in the world. (Applause.)\\n\\nPreparing our nation to compete in the world is a goal that all of us can share. I urge you to support the American Competitiveness Initiative, and together we will show the world what the American people can achieve.\\n\\nAmerica is a great force for freedom and prosperity. Yet our greatness is not measured in power or luxuries, but by who we are and how we treat one another. So we strive to be a compassionate, decent, hopeful society.\\n\\nIn recent years, America has become a more hopeful nation. Violent crime rates have fallen to their lowest levels since the 1970s. Welfare cases have dropped by more than half over the past decade. Drug use among youth is down 19 percent since 2001. There are fewer abortions in America than at any point in the last three decades, and the number of children born to teenage mothers has been falling for a dozen years in a row. (Applause.)\\n\\nThese gains are evidence of a quiet transformation -- a revolution of conscience, in which a rising generation is finding that a life of personal responsibility is a life of fulfillment. Government has played a role. Wise policies, such as welfare reform and drug education and support for abstinence and adoption have made a difference in the character of our country. And everyone here tonight, Democrat and Republican, has a right to be proud of this record. (Applause.)\\n\\nYet many Americans, especially parents, still have deep concerns about the direction of our culture, and the health of our most basic institutions. They\\'re concerned about unethical conduct by public officials, and discouraged by activist courts that try to redefine marriage. They worry about children in our society who need direction and love, and about fellow citizens still displaced by natural disaster, and about suffering caused by treatable diseases.\\n\\nAs we look at these challenges, we must never give in to the belief that America is in decline, or that our culture is doomed to unravel. The American people know better than that. We have proven the pessimists wrong before -- and we will do it again. (Applause.)\\n\\nA hopeful society depends on courts that deliver equal justice under the law. The Supreme Court now has two superb new members -- new members on its bench: Chief Justice John Roberts and Justice Sam Alito. (Applause.) I thank the Senate for confirming both of them. I will continue to nominate men and women who understand that judges must be servants of the law, and not legislate from the bench. (Applause.)\\n\\nToday marks the official retirement of a very special American. For 24 years of faithful service to our nation, the United States is grateful to Justice Sandra Day O\\'Connor. (Applause.)\\n\\nA hopeful society has institutions of science and medicine that do not cut ethical corners, and that recognize the matchless value of every life. Tonight I ask you to pass legislation to prohibit the most egregious abuses of medical research: human cloning in all its forms, creating or implanting embryos for experiments, creating human-animal hybrids, and buying, selling, or patenting human embryos. Human life is a gift from our Creator -- and that gift should never be discarded, devalued or put up for sale. (Applause.)\\n\\nA hopeful society expects elected officials to uphold the public trust. (Applause.) Honorable people in both parties are working on reforms to strengthen the ethical standards of Washington -- I support your efforts. Each of us has made a pledge to be worthy of public responsibility -- and that is a pledge we must never forget, never dismiss, and never betray. (Applause.)\\n\\nAs we renew the promise of our institutions, let us also show the character of America in our compassion and care for one another.\\n\\nA hopeful society gives special attention to children who lack direction and love. Through the Helping America\\'s Youth Initiative, we are encouraging caring adults to get involved in the life of a child -- and this good work is being led by our First Lady, Laura Bush. (Applause.) This year we will add resources to encourage young people to stay in school, so more of America\\'s youth can raise their sights and achieve their dreams.\\n\\nA hopeful society comes to the aid of fellow citizens in times of suffering and emergency -- and stays at it until they\\'re back on their feet. So far the federal government has committed $85 billion to the people of the Gulf Coast and New Orleans. We\\'re removing debris and repairing highways and rebuilding stronger levees. We\\'re providing business loans and housing assistance. Yet as we meet these immediate needs, we must also address deeper challenges that existed before the storm arrived.\\n\\nIn New Orleans and in other places, many of our fellow citizens have felt excluded from the promise of our country. The answer is not only temporary relief, but schools that teach every child, and job skills that bring upward mobility, and more opportunities to own a home and start a business. As we recover from a disaster, let us also work for the day when all Americans are protected by justice, equal in hope, and rich in opportunity. (Applause.)\\n\\nA hopeful society acts boldly to fight diseases like HIV/AIDS, which can be prevented, and treated, and defeated. More than a million Americans live with HIV, and half of all AIDS cases occur among African Americans. I ask Congress to reform and reauthorize the Ryan White Act, and provide new funding to states, so we end the waiting lists for AIDS medicines in America. (Applause.) We will also lead a nationwide effort, working closely with African American churches and faith-based groups, to deliver rapid HIV tests to millions, end the stigma of AIDS, and come closer to the day when there are no new infections in America. (Applause.)\\n\\nFellow citizens, we\\'ve been called to leadership in a period of consequence. We\\'ve entered a great ideological conflict we did nothing to invite. We see great changes in science and commerce that will influence all our lives. Sometimes it can seem that history is turning in a wide arc, toward an unknown shore. Yet the destination of history is determined by human action, and every great movement of history comes to a point of choosing.\\n\\nLincoln could have accepted peace at the cost of disunity and continued slavery. Martin Luther King could have stopped at Birmingham or at Selma, and achieved only half a victory over segregation. The United States could have accepted the permanent division of Europe, and been complicit in the oppression of others. Today, having come far in our own historical journey, we must decide: Will we turn back, or finish well?\\n\\nBefore history is written down in books, it is written in courage. Like Americans before us, we will show that courage and we will finish well. We will lead freedom\\'s advance. We will compete and excel in the global economy. We will renew the defining moral commitments of this land. And so we move forward -- optimistic about our country, faithful to its cause, and confident of the victories to come.\\n\\nMay God bless America. (Applause.)\\n'"
      ]
     },
     "execution_count": 26,
     "metadata": {},
     "output_type": "execute_result"
    }
   ],
   "source": [
    "text"
   ]
  },
  {
   "cell_type": "code",
   "execution_count": 27,
   "metadata": {
    "collapsed": true
   },
   "outputs": [],
   "source": [
    "pos = pos_tag(word_tokenize(text))"
   ]
  },
  {
   "cell_type": "code",
   "execution_count": 28,
   "metadata": {},
   "outputs": [
    {
     "data": {
      "text/plain": [
       "[('GEORGE', 'NNP'),\n",
       " ('W.', 'NNP'),\n",
       " ('BUSH', 'NNP'),\n",
       " (\"'S\", 'POS'),\n",
       " ('ADDRESS', 'NNP'),\n",
       " ('BEFORE', 'IN'),\n",
       " ('A', 'NNP'),\n",
       " ('JOINT', 'NNP'),\n",
       " ('SESSION', 'NNP'),\n",
       " ('OF', 'IN'),\n",
       " ('THE', 'NNP'),\n",
       " ('CONGRESS', 'NNP'),\n",
       " ('ON', 'NNP'),\n",
       " ('THE', 'NNP'),\n",
       " ('STATE', 'NNP'),\n",
       " ('OF', 'IN'),\n",
       " ('THE', 'NNP'),\n",
       " ('UNION', 'NNP'),\n",
       " ('January', 'NNP'),\n",
       " ('31', 'CD'),\n",
       " (',', ','),\n",
       " ('2006', 'CD'),\n",
       " ('THE', 'NNP'),\n",
       " ('PRESIDENT', 'NNP'),\n",
       " (':', ':'),\n",
       " ('Thank', 'NNP'),\n",
       " ('you', 'PRP'),\n",
       " ('all', 'DT'),\n",
       " ('.', '.'),\n",
       " ('Mr.', 'NNP'),\n",
       " ('Speaker', 'NNP'),\n",
       " (',', ','),\n",
       " ('Vice', 'NNP'),\n",
       " ('President', 'NNP'),\n",
       " ('Cheney', 'NNP'),\n",
       " (',', ','),\n",
       " ('members', 'NNS'),\n",
       " ('of', 'IN'),\n",
       " ('Congress', 'NNP'),\n",
       " (',', ','),\n",
       " ('members', 'NNS'),\n",
       " ('of', 'IN'),\n",
       " ('the', 'DT'),\n",
       " ('Supreme', 'NNP'),\n",
       " ('Court', 'NNP'),\n",
       " ('and', 'CC'),\n",
       " ('diplomatic', 'JJ'),\n",
       " ('corps', 'NN'),\n",
       " (',', ',')]"
      ]
     },
     "execution_count": 28,
     "metadata": {},
     "output_type": "execute_result"
    }
   ],
   "source": [
    "pos[1:50]"
   ]
  },
  {
   "cell_type": "raw",
   "metadata": {},
   "source": [
    "POS tag list:\n",
    "\n",
    "CC\tcoordinating conjunction\n",
    "CD\tcardinal digit\n",
    "DT\tdeterminer\n",
    "EX\texistential there (like: \"there is\" ... think of it like \"there exists\")\n",
    "FW\tforeign word\n",
    "IN\tpreposition/subordinating conjunction\n",
    "JJ\tadjective\t'big'\n",
    "JJR\tadjective, comparative\t'bigger'\n",
    "JJS\tadjective, superlative\t'biggest'\n",
    "LS\tlist marker\t1)\n",
    "MD\tmodal\tcould, will\n",
    "NN\tnoun, singular 'desk'\n",
    "NNS\tnoun plural\t'desks'\n",
    "NNP\tproper noun, singular\t'Harrison'\n",
    "NNPS\tproper noun, plural\t'Americans'\n",
    "PDT\tpredeterminer\t'all the kids'\n",
    "POS\tpossessive ending\tparent's\n",
    "PRP\tpersonal pronoun\tI, he, she\n",
    "PRP$\tpossessive pronoun\tmy, his, hers\n",
    "RB\tadverb\tvery, silently,\n",
    "RBR\tadverb, comparative\tbetter\n",
    "RBS\tadverb, superlative\tbest\n",
    "RP\tparticle\tgive up\n",
    "TO\tto\tgo 'to' the store.\n",
    "UH\tinterjection\terrrrrrrrm\n",
    "VB\tverb, base form\ttake\n",
    "VBD\tverb, past tense\ttook\n",
    "VBG\tverb, gerund/present participle\ttaking\n",
    "VBN\tverb, past participle\ttaken\n",
    "VBP\tverb, sing. present, non-3d\ttake\n",
    "VBZ\tverb, 3rd person sing. present\ttakes\n",
    "WDT\twh-determiner\twhich\n",
    "WP\twh-pronoun\twho, what\n",
    "WP$\tpossessive wh-pronoun\twhose\n",
    "WRB\twh-abverb\twhere, when"
   ]
  },
  {
   "cell_type": "code",
   "execution_count": 29,
   "metadata": {
    "collapsed": true
   },
   "outputs": [],
   "source": [
    "from nltk.stem import WordNetLemmatizer"
   ]
  },
  {
   "cell_type": "code",
   "execution_count": 30,
   "metadata": {
    "collapsed": true
   },
   "outputs": [],
   "source": [
    "lemmatizer = WordNetLemmatizer()"
   ]
  },
  {
   "cell_type": "code",
   "execution_count": 31,
   "metadata": {},
   "outputs": [
    {
     "data": {
      "text/plain": [
       "'good'"
      ]
     },
     "execution_count": 31,
     "metadata": {},
     "output_type": "execute_result"
    }
   ],
   "source": [
    "lemmatizer.lemmatize(\"good\", pos = \"a\")"
   ]
  },
  {
   "cell_type": "code",
   "execution_count": 32,
   "metadata": {},
   "outputs": [
    {
     "data": {
      "text/plain": [
       "'good'"
      ]
     },
     "execution_count": 32,
     "metadata": {},
     "output_type": "execute_result"
    }
   ],
   "source": [
    "lemmatizer.lemmatize(\"better\", pos = \"a\")"
   ]
  },
  {
   "cell_type": "code",
   "execution_count": 34,
   "metadata": {},
   "outputs": [
    {
     "data": {
      "text/plain": [
       "'excellent'"
      ]
     },
     "execution_count": 34,
     "metadata": {},
     "output_type": "execute_result"
    }
   ],
   "source": [
    "lemmatizer.lemmatize(\"excellent\", pos = \"n\")"
   ]
  },
  {
   "cell_type": "code",
   "execution_count": 35,
   "metadata": {},
   "outputs": [
    {
     "data": {
      "text/plain": [
       "'paint'"
      ]
     },
     "execution_count": 35,
     "metadata": {},
     "output_type": "execute_result"
    }
   ],
   "source": [
    "lemmatizer.lemmatize(\"painting\", pos = \"v\")"
   ]
  },
  {
   "cell_type": "code",
   "execution_count": 36,
   "metadata": {},
   "outputs": [
    {
     "data": {
      "text/plain": [
       "'painting'"
      ]
     },
     "execution_count": 36,
     "metadata": {},
     "output_type": "execute_result"
    }
   ],
   "source": [
    "lemmatizer.lemmatize(\"painting\", pos = \"n\")"
   ]
  },
  {
   "cell_type": "code",
   "execution_count": 37,
   "metadata": {},
   "outputs": [
    {
     "data": {
      "text/plain": [
       "'study'"
      ]
     },
     "execution_count": 37,
     "metadata": {},
     "output_type": "execute_result"
    }
   ],
   "source": [
    "lemmatizer.lemmatize(\"studies\", pos = \"v\")"
   ]
  },
  {
   "cell_type": "raw",
   "metadata": {},
   "source": [
    "lemmatizer.lemmatize(\"studies\", pos = \"n\")"
   ]
  },
  {
   "cell_type": "markdown",
   "metadata": {},
   "source": [
    "f\n"
   ]
  },
  {
   "cell_type": "code",
   "execution_count": 39,
   "metadata": {
    "collapsed": true
   },
   "outputs": [],
   "source": [
    "from nltk.corpus import wordnet"
   ]
  },
  {
   "cell_type": "code",
   "execution_count": 41,
   "metadata": {},
   "outputs": [
    {
     "data": {
      "text/plain": [
       "[Synset('can.n.01'),\n",
       " Synset('can.n.02'),\n",
       " Synset('can.n.03'),\n",
       " Synset('buttocks.n.01'),\n",
       " Synset('toilet.n.02'),\n",
       " Synset('toilet.n.01'),\n",
       " Synset('can.v.01'),\n",
       " Synset('displace.v.03')]"
      ]
     },
     "execution_count": 41,
     "metadata": {},
     "output_type": "execute_result"
    }
   ],
   "source": [
    "syns = wordnet.synsets(\"can\")\n",
    "syns"
   ]
  },
  {
   "cell_type": "code",
   "execution_count": 42,
   "metadata": {},
   "outputs": [
    {
     "data": {
      "text/plain": [
       "[Synset('respect.n.01'),\n",
       " Synset('attentiveness.n.01'),\n",
       " Synset('regard.n.03'),\n",
       " Synset('gaze.n.01'),\n",
       " Synset('esteem.n.01'),\n",
       " Synset('regard.n.06'),\n",
       " Synset('respect.n.03'),\n",
       " Synset('see.v.05'),\n",
       " Synset('regard.v.02'),\n",
       " Synset('involve.v.01')]"
      ]
     },
     "execution_count": 42,
     "metadata": {},
     "output_type": "execute_result"
    }
   ],
   "source": [
    "syns = wordnet.synsets(\"regard\")\n",
    "syns\n"
   ]
  },
  {
   "cell_type": "code",
   "execution_count": 43,
   "metadata": {},
   "outputs": [
    {
     "data": {
      "text/plain": [
       "'the condition of being honored (esteemed or respected or well regarded)'"
      ]
     },
     "execution_count": 43,
     "metadata": {},
     "output_type": "execute_result"
    }
   ],
   "source": [
    "syns[4].definition()"
   ]
  },
  {
   "cell_type": "code",
   "execution_count": 44,
   "metadata": {},
   "outputs": [
    {
     "data": {
      "text/plain": [
       "['give him my kind regards', 'my best wishes']"
      ]
     },
     "execution_count": 44,
     "metadata": {},
     "output_type": "execute_result"
    }
   ],
   "source": [
    "syns[2].examples()"
   ]
  },
  {
   "cell_type": "code",
   "execution_count": 45,
   "metadata": {},
   "outputs": [
    {
     "data": {
      "text/plain": [
       "['she mistook his manly regard for love', 'he inspires respect']"
      ]
     },
     "execution_count": 45,
     "metadata": {},
     "output_type": "execute_result"
    }
   ],
   "source": [
    "syns[5].examples()"
   ]
  },
  {
   "cell_type": "code",
   "execution_count": 46,
   "metadata": {},
   "outputs": [
    {
     "name": "stdout",
     "output_type": "stream",
     "text": [
      "0.6956521739130435\n"
     ]
    }
   ],
   "source": [
    "w1 = wordnet.synset('boat.n.01')\n",
    "w2 = wordnet.synset('car.n.01')\n",
    "print(w1.wup_similarity(w2))"
   ]
  },
  {
   "cell_type": "code",
   "execution_count": 47,
   "metadata": {},
   "outputs": [
    {
     "name": "stdout",
     "output_type": "stream",
     "text": [
      "0.9090909090909091\n"
     ]
    }
   ],
   "source": [
    "w1 = wordnet.synset('boat.n.01')\n",
    "w2 = wordnet.synset('ship.n.01')\n",
    "print(w1.wup_similarity(w2))"
   ]
  },
  {
   "cell_type": "code",
   "execution_count": 48,
   "metadata": {
    "collapsed": true
   },
   "outputs": [],
   "source": [
    "from nltk import ne_chunk"
   ]
  },
  {
   "cell_type": "code",
   "execution_count": 51,
   "metadata": {
    "collapsed": true
   },
   "outputs": [],
   "source": [
    "sentence = \"Sergey Brin, the manager of Google Inc. is walking down the street in London.\"\n",
    "sentence =  sentence.lower()"
   ]
  },
  {
   "cell_type": "code",
   "execution_count": 52,
   "metadata": {},
   "outputs": [
    {
     "data": {
      "image/png": "[encoded data removed]",
      "text/plain": [
       "Tree('S', [('sergey', 'NN'), ('brin', 'NN'), (',', ','), ('the', 'DT'), ('manager', 'NN'), ('of', 'IN'), ('google', 'NN'), ('inc.', 'NN'), ('is', 'VBZ'), ('walking', 'VBG'), ('down', 'RP'), ('the', 'DT'), ('street', 'NN'), ('in', 'IN'), ('london', 'NN'), ('.', '.')])"
      ]
     },
     "execution_count": 52,
     "metadata": {},
     "output_type": "execute_result"
    }
   ],
   "source": [
    "converted = ne_chunk(pos_tag(word_tokenize(sentence)))\n",
    "converted"
   ]
  },
  {
   "cell_type": "raw",
   "metadata": {},
   "source": [
    "ORGANIZATION - Georgia-Pacific Corp., WHO\n",
    "PERSON - Eddy Bonte, President Obama\n",
    "LOCATION - Murray River, Mount Everest\n",
    "DATE - June, 2008-06-29\n",
    "TIME - two fifty a m, 1:30 p.m.\n",
    "MONEY - 175 million Canadian Dollars, GBP 10.40\n",
    "PERCENT - twenty pct, 18.75 %\n",
    "FACILITY - Washington Monument, Stonehenge\n",
    "GPE - South East Asia, Midlothian"
   ]
  },
  {
   "cell_type": "code",
   "execution_count": 55,
   "metadata": {
    "collapsed": true
   },
   "outputs": [],
   "source": [
    "from nltk.corpus import movie_reviews"
   ]
  },
  {
   "cell_type": "markdown",
   "metadata": {},
   "source": [
    "movie_reviews.categories()"
   ]
  },
  {
   "cell_type": "code",
   "execution_count": 60,
   "metadata": {},
   "outputs": [
    {
     "data": {
      "text/plain": [
       "['capsule', ':', 'in', '2176', 'on', 'the', 'planet', ...]"
      ]
     },
     "execution_count": 60,
     "metadata": {},
     "output_type": "execute_result"
    }
   ],
   "source": [
    "movie_reviews.words(movie_reviews.fileids()[5])"
   ]
  },
  {
   "cell_type": "code",
   "execution_count": 62,
   "metadata": {
    "collapsed": true
   },
   "outputs": [],
   "source": [
    "documents = []\n",
    "for category in movie_reviews.categories():\n",
    "    for fileid in movie_reviews.fileids(category):\n",
    "        documents.append((movie_reviews.words(fileid), category))"
   ]
  },
  {
   "cell_type": "code",
   "execution_count": 63,
   "metadata": {},
   "outputs": [
    {
     "data": {
      "text/plain": [
       "2000"
      ]
     },
     "execution_count": 63,
     "metadata": {},
     "output_type": "execute_result"
    }
   ],
   "source": [
    "len(documents)"
   ]
  },
  {
   "cell_type": "code",
   "execution_count": 65,
   "metadata": {},
   "outputs": [
    {
     "data": {
      "text/plain": [
       "'neg'"
      ]
     },
     "execution_count": 65,
     "metadata": {},
     "output_type": "execute_result"
    }
   ],
   "source": [
    "documents[2][1]"
   ]
  },
  {
   "cell_type": "code",
   "execution_count": 66,
   "metadata": {
    "collapsed": true
   },
   "outputs": [],
   "source": [
    "import random\n",
    "random.shuffle(documents)"
   ]
  },
  {
   "cell_type": "code",
   "execution_count": null,
   "metadata": {
    "collapsed": true
   },
   "outputs": [],
   "source": []
  },
  {
   "cell_type": "code",
   "execution_count": 74,
   "metadata": {
    "collapsed": true
   },
   "outputs": [],
   "source": [
    "all_words = []\n",
    "stops.update(\".\", \"?\", \"(\", \")\", \",\", \"-\", \"'\", '\"')\n",
    "for w in movie_reviews.words():\n",
    "    if w.lower() not in stops:\n",
    "        all_words.append(w.lower())"
   ]
  },
  {
   "cell_type": "code",
   "execution_count": 75,
   "metadata": {},
   "outputs": [
    {
     "data": {
      "text/plain": [
       "721009"
      ]
     },
     "execution_count": 75,
     "metadata": {},
     "output_type": "execute_result"
    }
   ],
   "source": [
    "len(all_words)"
   ]
  },
  {
   "cell_type": "code",
   "execution_count": 76,
   "metadata": {
    "collapsed": true
   },
   "outputs": [],
   "source": [
    "import nltk"
   ]
  },
  {
   "cell_type": "code",
   "execution_count": 77,
   "metadata": {},
   "outputs": [
    {
     "data": {
      "text/plain": [
       "[('film', 9517),\n",
       " ('one', 5852),\n",
       " ('movie', 5771),\n",
       " ('like', 3690),\n",
       " (':', 3042),\n",
       " ('even', 2565),\n",
       " ('good', 2411),\n",
       " ('time', 2411),\n",
       " ('story', 2169),\n",
       " ('would', 2109),\n",
       " ('much', 2049),\n",
       " ('character', 2020),\n",
       " ('also', 1967),\n",
       " ('get', 1949),\n",
       " ('two', 1911)]"
      ]
     },
     "execution_count": 77,
     "metadata": {},
     "output_type": "execute_result"
    }
   ],
   "source": [
    "all_words = nltk.FreqDist(all_words)\n",
    "all_words.most_common(15)"
   ]
  },
  {
   "cell_type": "code",
   "execution_count": 86,
   "metadata": {},
   "outputs": [
    {
     "ename": "TypeError",
     "evalue": "list indices must be integers or slices, not tuple",
     "output_type": "error",
     "traceback": [
      "\u001b[0;31m---------------------------------------------------------------------------\u001b[0m",
      "\u001b[0;31mTypeError\u001b[0m                                 Traceback (most recent call last)",
      "\u001b[0;32m<ipython-input-86-bc3a97b2e540>\u001b[0m in \u001b[0;36m<module>\u001b[0;34m()\u001b[0m\n\u001b[0;32m----> 1\u001b[0;31m \u001b[0mword_features\u001b[0m \u001b[0;34m=\u001b[0m \u001b[0mlist\u001b[0m\u001b[0;34m(\u001b[0m\u001b[0mall_words\u001b[0m\u001b[0;34m.\u001b[0m\u001b[0mmost_common\u001b[0m\u001b[0;34m(\u001b[0m\u001b[0;36m3000\u001b[0m\u001b[0;34m)\u001b[0m\u001b[0;34m[\u001b[0m\u001b[0;34m:\u001b[0m\u001b[0;34m,\u001b[0m\u001b[0;36m0\u001b[0m\u001b[0;34m]\u001b[0m\u001b[0;34m)\u001b[0m\u001b[0;34m\u001b[0m\u001b[0m\n\u001b[0m",
      "\u001b[0;31mTypeError\u001b[0m: list indices must be integers or slices, not tuple"
     ]
    }
   ],
   "source": [
    "word_features = list(all_words.most_common(3000)[:,0])"
   ]
  },
  {
   "cell_type": "code",
   "execution_count": 90,
   "metadata": {
    "collapsed": true
   },
   "outputs": [],
   "source": [
    "word_features = []\n",
    "most_common = all_words.most_common()"
   ]
  },
  {
   "cell_type": "code",
   "execution_count": 91,
   "metadata": {
    "collapsed": true
   },
   "outputs": [],
   "source": [
    "for i in range(3000):\n",
    "    word_features.append(most_common[i][0])"
   ]
  },
  {
   "cell_type": "code",
   "execution_count": 92,
   "metadata": {},
   "outputs": [
    {
     "data": {
      "text/plain": [
       "3000"
      ]
     },
     "execution_count": 92,
     "metadata": {},
     "output_type": "execute_result"
    }
   ],
   "source": [
    "len(word_features)"
   ]
  },
  {
   "cell_type": "code",
   "execution_count": 93,
   "metadata": {},
   "outputs": [
    {
     "data": {
      "text/plain": [
       "['one', 'movie', 'like', ':', 'even', 'good', 'time', 'story', 'would']"
      ]
     },
     "execution_count": 93,
     "metadata": {},
     "output_type": "execute_result"
    }
   ],
   "source": [
    "word_features[1:10]"
   ]
  },
  {
   "cell_type": "code",
   "execution_count": 94,
   "metadata": {
    "collapsed": true
   },
   "outputs": [],
   "source": [
    "def find_features(document):\n",
    "    words = set(document)\n",
    "    features = {}\n",
    "    for w in word_features:\n",
    "        features[w] = (w in words)\n",
    "    return features"
   ]
  },
  {
   "cell_type": "code",
   "execution_count": 96,
   "metadata": {
    "collapsed": true
   },
   "outputs": [],
   "source": [
    "features = find_features(movie_reviews.words(movie_reviews.fileids()[2]))"
   ]
  },
  {
   "cell_type": "code",
   "execution_count": 98,
   "metadata": {
    "collapsed": true
   },
   "outputs": [],
   "source": [
    "featuresets = [(find_features(doc), category) for (doc,category) in documents]"
   ]
  },
  {
   "cell_type": "code",
   "execution_count": 99,
   "metadata": {},
   "outputs": [
    {
     "data": {
      "text/plain": [
       "({'lisa': False,\n",
       "  'surely': False,\n",
       "  'buddies': False,\n",
       "  'lighting': False,\n",
       "  'occasionally': False,\n",
       "  'pleasure': False,\n",
       "  'introduced': False,\n",
       "  'journey': False,\n",
       "  'hip': False,\n",
       "  'silly': True,\n",
       "  'holds': False,\n",
       "  'mountain': False,\n",
       "  'instance': False,\n",
       "  '&': False,\n",
       "  '1999': False,\n",
       "  'neil': False,\n",
       "  'ed': False,\n",
       "  'arrives': False,\n",
       "  'accident': False,\n",
       "  'explain': False,\n",
       "  'suppose': False,\n",
       "  'command': False,\n",
       "  'working': False,\n",
       "  'hands': False,\n",
       "  'van': False,\n",
       "  'hearing': False,\n",
       "  'pure': False,\n",
       "  'assistant': False,\n",
       "  'magical': False,\n",
       "  'status': False,\n",
       "  'done': False,\n",
       "  '80s': False,\n",
       "  'memorable': False,\n",
       "  'natural': False,\n",
       "  'rescue': False,\n",
       "  'fascinating': False,\n",
       "  'patient': False,\n",
       "  'points': False,\n",
       "  'stunts': False,\n",
       "  'reasons': False,\n",
       "  'appearances': False,\n",
       "  'lawyer': False,\n",
       "  'expected': False,\n",
       "  'frankenstein': False,\n",
       "  'professor': False,\n",
       "  'minutes': True,\n",
       "  'boyfriend': False,\n",
       "  'rating': False,\n",
       "  'beloved': False,\n",
       "  'opening': True,\n",
       "  'picture': False,\n",
       "  'millionaire': False,\n",
       "  'structure': False,\n",
       "  'slowly': False,\n",
       "  'dry': False,\n",
       "  'starring': False,\n",
       "  'references': False,\n",
       "  'paced': False,\n",
       "  'weapon': False,\n",
       "  'fit': False,\n",
       "  'butt': False,\n",
       "  'harry': False,\n",
       "  'different': False,\n",
       "  'decision': False,\n",
       "  'best': True,\n",
       "  'content': False,\n",
       "  'virtually': False,\n",
       "  '17': False,\n",
       "  'man': True,\n",
       "  'inept': False,\n",
       "  'characters': False,\n",
       "  'giant': False,\n",
       "  'e': False,\n",
       "  'fire': False,\n",
       "  'mystery': False,\n",
       "  'prince': False,\n",
       "  'jackie': False,\n",
       "  'animation': False,\n",
       "  'set': False,\n",
       "  'extended': False,\n",
       "  'model': False,\n",
       "  'feels': False,\n",
       "  'handful': False,\n",
       "  'species': False,\n",
       "  'range': False,\n",
       "  'ad': False,\n",
       "  'francis': False,\n",
       "  'unknown': False,\n",
       "  'gain': False,\n",
       "  'loser': False,\n",
       "  'clich': False,\n",
       "  'war': False,\n",
       "  'quality': False,\n",
       "  'humanity': False,\n",
       "  'expecting': False,\n",
       "  'taste': False,\n",
       "  'awards': False,\n",
       "  'gotten': False,\n",
       "  'satan': False,\n",
       "  'screen': False,\n",
       "  'tony': False,\n",
       "  'american': False,\n",
       "  'witty': False,\n",
       "  'river': False,\n",
       "  'wears': False,\n",
       "  'impressed': False,\n",
       "  'jonathan': False,\n",
       "  'unfunny': False,\n",
       "  'sea': False,\n",
       "  'contains': False,\n",
       "  'mail': False,\n",
       "  'knew': False,\n",
       "  'comic': True,\n",
       "  'takes': False,\n",
       "  'amount': False,\n",
       "  'experiences': True,\n",
       "  'release': False,\n",
       "  'something': False,\n",
       "  'imagination': False,\n",
       "  'expert': False,\n",
       "  'harris': False,\n",
       "  'difference': False,\n",
       "  'delivering': False,\n",
       "  'hollywood': False,\n",
       "  'twice': False,\n",
       "  'students': False,\n",
       "  'game': False,\n",
       "  'victim': False,\n",
       "  'escapes': False,\n",
       "  'anything': False,\n",
       "  'charisma': False,\n",
       "  'reading': False,\n",
       "  'infamous': False,\n",
       "  'fu': False,\n",
       "  'maggie': False,\n",
       "  'armageddon': False,\n",
       "  'play': False,\n",
       "  'unexpected': False,\n",
       "  'hunter': False,\n",
       "  'instinct': False,\n",
       "  'raise': False,\n",
       "  'russian': False,\n",
       "  'lucas': False,\n",
       "  'grand': False,\n",
       "  'zero': False,\n",
       "  'almost': False,\n",
       "  'harrelson': False,\n",
       "  'joke': False,\n",
       "  'bruce': False,\n",
       "  'finally': False,\n",
       "  'mean': False,\n",
       "  'sitting': False,\n",
       "  'hitchcock': False,\n",
       "  'overly': False,\n",
       "  '54': False,\n",
       "  'every': False,\n",
       "  'lead': False,\n",
       "  'parody': False,\n",
       "  'pick': False,\n",
       "  'monster': False,\n",
       "  'truck': True,\n",
       "  'budget': False,\n",
       "  'ellie': False,\n",
       "  'serves': False,\n",
       "  'taking': False,\n",
       "  'ghost': False,\n",
       "  'totally': False,\n",
       "  'michelle': False,\n",
       "  'soft': False,\n",
       "  'mrs': False,\n",
       "  'marriage': False,\n",
       "  'desire': False,\n",
       "  'terrorist': False,\n",
       "  'ideas': False,\n",
       "  'bathroom': False,\n",
       "  'opens': False,\n",
       "  '1994': False,\n",
       "  'seven': False,\n",
       "  'actors': False,\n",
       "  'satisfying': False,\n",
       "  'career': False,\n",
       "  'death': False,\n",
       "  'cover': False,\n",
       "  'trapped': False,\n",
       "  'spirit': True,\n",
       "  'bridge': False,\n",
       "  'evil': False,\n",
       "  'sing': True,\n",
       "  'random': False,\n",
       "  'luck': False,\n",
       "  'judd': False,\n",
       "  'twists': False,\n",
       "  'happens': False,\n",
       "  'spending': False,\n",
       "  'pull': False,\n",
       "  'research': False,\n",
       "  'angeles': False,\n",
       "  'colorful': False,\n",
       "  'bright': False,\n",
       "  'winner': False,\n",
       "  'emotional': False,\n",
       "  'times': True,\n",
       "  'regular': False,\n",
       "  'joe': False,\n",
       "  'max': False,\n",
       "  'breathtaking': False,\n",
       "  'finds': True,\n",
       "  'signs': False,\n",
       "  'jokes': False,\n",
       "  'particular': False,\n",
       "  'obvious': False,\n",
       "  'jolie': False,\n",
       "  'apartment': True,\n",
       "  'thrills': False,\n",
       "  'reason': False,\n",
       "  'fairly': False,\n",
       "  'daughter': False,\n",
       "  'mission': False,\n",
       "  'un': False,\n",
       "  'jurassic': False,\n",
       "  '%': False,\n",
       "  'mid': False,\n",
       "  'left': False,\n",
       "  'intelligent': False,\n",
       "  'open': False,\n",
       "  'moments': False,\n",
       "  'cameo': False,\n",
       "  'romeo': False,\n",
       "  'paxton': False,\n",
       "  'say': False,\n",
       "  'picked': False,\n",
       "  'october': False,\n",
       "  'sympathetic': True,\n",
       "  'bear': False,\n",
       "  'indeed': True,\n",
       "  'fan': False,\n",
       "  'count': False,\n",
       "  'move': False,\n",
       "  'tucker': False,\n",
       "  'sole': False,\n",
       "  'instead': False,\n",
       "  'learn': False,\n",
       "  'room': True,\n",
       "  'actions': False,\n",
       "  'storyline': False,\n",
       "  'cry': False,\n",
       "  'scenery': False,\n",
       "  'pieces': False,\n",
       "  'california': False,\n",
       "  'helped': False,\n",
       "  'fine': False,\n",
       "  'couple': False,\n",
       "  'spacey': False,\n",
       "  'white': True,\n",
       "  'americans': False,\n",
       "  'bizarre': True,\n",
       "  'charge': False,\n",
       "  'boogie': False,\n",
       "  'jet': False,\n",
       "  'disney': False,\n",
       "  'theme': False,\n",
       "  'bulworth': False,\n",
       "  'angel': True,\n",
       "  'notch': False,\n",
       "  'rose': False,\n",
       "  'led': False,\n",
       "  'birthday': False,\n",
       "  'weekend': False,\n",
       "  'voices': False,\n",
       "  'luke': False,\n",
       "  'cinematography': False,\n",
       "  'nature': False,\n",
       "  'telling': False,\n",
       "  'enjoying': False,\n",
       "  'ocean': False,\n",
       "  'level': False,\n",
       "  'tarantino': False,\n",
       "  'incredibly': False,\n",
       "  'ok': False,\n",
       "  'notice': False,\n",
       "  'involves': False,\n",
       "  'cause': False,\n",
       "  'holiday': False,\n",
       "  'robin': False,\n",
       "  'howard': False,\n",
       "  'tradition': False,\n",
       "  'episodes': False,\n",
       "  'terribly': False,\n",
       "  'hospital': False,\n",
       "  'recognize': False,\n",
       "  'quiet': False,\n",
       "  'writing': False,\n",
       "  'mob': False,\n",
       "  'need': False,\n",
       "  'found': False,\n",
       "  'semi': False,\n",
       "  'silent': False,\n",
       "  'gratuitous': False,\n",
       "  'forever': False,\n",
       "  'chases': False,\n",
       "  'drawn': False,\n",
       "  'notes': False,\n",
       "  'altman': False,\n",
       "  'jamie': False,\n",
       "  'powers': False,\n",
       "  'liked': False,\n",
       "  'apart': False,\n",
       "  'attitude': False,\n",
       "  'experience': False,\n",
       "  'cult': False,\n",
       "  'inside': False,\n",
       "  'played': False,\n",
       "  'strange': True,\n",
       "  'pace': False,\n",
       "  'accomplished': False,\n",
       "  'bit': False,\n",
       "  'loud': False,\n",
       "  'behind': True,\n",
       "  'energy': False,\n",
       "  'basically': False,\n",
       "  'support': False,\n",
       "  'original': True,\n",
       "  'theatrical': False,\n",
       "  'arms': False,\n",
       "  'black': False,\n",
       "  'carry': False,\n",
       "  'surprising': False,\n",
       "  'setup': False,\n",
       "  'followed': False,\n",
       "  'learned': False,\n",
       "  'sexual': False,\n",
       "  'turn': True,\n",
       "  'collection': False,\n",
       "  'circumstances': False,\n",
       "  'exchange': False,\n",
       "  'books': False,\n",
       "  '40': False,\n",
       "  'officer': False,\n",
       "  'credits': False,\n",
       "  'miss': False,\n",
       "  'cannot': False,\n",
       "  'toys': False,\n",
       "  'received': False,\n",
       "  'none': False,\n",
       "  'women': False,\n",
       "  'merely': False,\n",
       "  'across': False,\n",
       "  'questions': False,\n",
       "  'flashy': False,\n",
       "  'committed': False,\n",
       "  'addition': False,\n",
       "  'travel': False,\n",
       "  'called': True,\n",
       "  'search': False,\n",
       "  'mix': False,\n",
       "  'thankfully': False,\n",
       "  'soon': True,\n",
       "  'sorry': False,\n",
       "  'watched': False,\n",
       "  'toward': False,\n",
       "  'went': False,\n",
       "  'bother': False,\n",
       "  'ass': False,\n",
       "  'dennis': False,\n",
       "  'putting': False,\n",
       "  'passion': False,\n",
       "  'treatment': False,\n",
       "  'scary': False,\n",
       "  'chicken': False,\n",
       "  '20': False,\n",
       "  'england': False,\n",
       "  'conflict': True,\n",
       "  'opportunity': False,\n",
       "  'question': True,\n",
       "  'forget': False,\n",
       "  'complex': False,\n",
       "  'guns': False,\n",
       "  'lewis': False,\n",
       "  'standing': False,\n",
       "  'worker': False,\n",
       "  'aspect': False,\n",
       "  'seem': True,\n",
       "  'possibly': False,\n",
       "  'patrick': False,\n",
       "  'genius': False,\n",
       "  'pleasant': False,\n",
       "  'science': False,\n",
       "  'words': False,\n",
       "  'stunt': False,\n",
       "  'odd': False,\n",
       "  'armed': False,\n",
       "  'villain': False,\n",
       "  'safe': False,\n",
       "  'group': True,\n",
       "  'respect': False,\n",
       "  'loose': False,\n",
       "  'everything': False,\n",
       "  'stewart': False,\n",
       "  'jr': False,\n",
       "  'weird': False,\n",
       "  'singer': False,\n",
       "  'viewer': False,\n",
       "  'point': True,\n",
       "  'day': True,\n",
       "  'stories': False,\n",
       "  'hits': False,\n",
       "  'heard': False,\n",
       "  'perfection': False,\n",
       "  'graphic': False,\n",
       "  'event': False,\n",
       "  'serve': False,\n",
       "  'impact': False,\n",
       "  'besson': False,\n",
       "  'minds': False,\n",
       "  'eve': False,\n",
       "  'documentary': False,\n",
       "  'supernatural': False,\n",
       "  'appropriately': False,\n",
       "  'brilliantly': False,\n",
       "  'killers': False,\n",
       "  'apes': False,\n",
       "  'standard': False,\n",
       "  'deeply': False,\n",
       "  'prison': False,\n",
       "  'jackal': False,\n",
       "  'denise': False,\n",
       "  'small': False,\n",
       "  'makes': False,\n",
       "  'kim': False,\n",
       "  'gattaca': False,\n",
       "  'hair': False,\n",
       "  'strike': False,\n",
       "  'characterization': False,\n",
       "  'killed': False,\n",
       "  'pre': False,\n",
       "  'reaction': False,\n",
       "  'persona': False,\n",
       "  'pg': False,\n",
       "  'ghosts': False,\n",
       "  'chosen': False,\n",
       "  'players': False,\n",
       "  'rock': True,\n",
       "  'desperately': False,\n",
       "  'allen': False,\n",
       "  'gag': False,\n",
       "  'tries': False,\n",
       "  'sam': False,\n",
       "  'within': True,\n",
       "  'soul': False,\n",
       "  'chan': False,\n",
       "  'check': False,\n",
       "  'fool': True,\n",
       "  'king': False,\n",
       "  '>': False,\n",
       "  'robocop': False,\n",
       "  'world': True,\n",
       "  'filmmaking': False,\n",
       "  'matt': False,\n",
       "  'thompson': False,\n",
       "  'four': False,\n",
       "  'talk': False,\n",
       "  'henry': False,\n",
       "  'flick': False,\n",
       "  'needs': False,\n",
       "  'punch': False,\n",
       "  'films': False,\n",
       "  'must': False,\n",
       "  'giving': False,\n",
       "  'pie': False,\n",
       "  'better': False,\n",
       "  'screenwriters': False,\n",
       "  'cute': False,\n",
       "  'larger': False,\n",
       "  'comedy': False,\n",
       "  'beating': False,\n",
       "  'common': False,\n",
       "  'literally': False,\n",
       "  'thin': False,\n",
       "  'held': False,\n",
       "  'accused': False,\n",
       "  'hang': True,\n",
       "  'personally': False,\n",
       "  '--': True,\n",
       "  'miller': False,\n",
       "  'poorly': False,\n",
       "  'gary': False,\n",
       "  'states': False,\n",
       "  'screenplay': False,\n",
       "  'flat': False,\n",
       "  'short': False,\n",
       "  'sheer': False,\n",
       "  'fellow': False,\n",
       "  'determined': False,\n",
       "  'mars': False,\n",
       "  'success': False,\n",
       "  'treat': False,\n",
       "  'warm': False,\n",
       "  'might': True,\n",
       "  'calls': False,\n",
       "  'thrilling': False,\n",
       "  'constantly': False,\n",
       "  'action': False,\n",
       "  'criminal': False,\n",
       "  'grows': False,\n",
       "  'available': False,\n",
       "  'describe': False,\n",
       "  'inner': False,\n",
       "  'makers': False,\n",
       "  'want': False,\n",
       "  'irritating': False,\n",
       "  'deeper': False,\n",
       "  'freeze': False,\n",
       "  'however': True,\n",
       "  'style': False,\n",
       "  'ice': False,\n",
       "  'babe': False,\n",
       "  'cowboy': False,\n",
       "  'concept': False,\n",
       "  'mistake': False,\n",
       "  'maybe': False,\n",
       "  'ho': False,\n",
       "  'guard': False,\n",
       "  'soldiers': False,\n",
       "  'scheme': False,\n",
       "  'dies': False,\n",
       "  'b': False,\n",
       "  'opposite': False,\n",
       "  'playing': True,\n",
       "  'either': False,\n",
       "  'kilmer': False,\n",
       "  'movie': True,\n",
       "  'saves': False,\n",
       "  'order': False,\n",
       "  'packed': False,\n",
       "  'french': False,\n",
       "  'moment': False,\n",
       "  'making': False,\n",
       "  'predictable': False,\n",
       "  'pretty': False,\n",
       "  'match': False,\n",
       "  'title': False,\n",
       "  'decides': False,\n",
       "  'overall': False,\n",
       "  'desperate': False,\n",
       "  'melvin': False,\n",
       "  'limited': False,\n",
       "  'rob': False,\n",
       "  'lawrence': False,\n",
       "  'tarzan': False,\n",
       "  'doors': False,\n",
       "  'credit': False,\n",
       "  '1995': False,\n",
       "  'saved': False,\n",
       "  'visually': False,\n",
       "  'developed': False,\n",
       "  'first': True,\n",
       "  'smith': False,\n",
       "  'timing': False,\n",
       "  'mixed': False,\n",
       "  'unique': False,\n",
       "  'convinced': False,\n",
       "  'blonde': False,\n",
       "  'love': True,\n",
       "  'class': False,\n",
       "  'dark': False,\n",
       "  'minute': False,\n",
       "  'friendly': False,\n",
       "  'clean': False,\n",
       "  'remaining': False,\n",
       "  'looks': False,\n",
       "  'empire': False,\n",
       "  'wahlberg': False,\n",
       "  'screaming': False,\n",
       "  'winning': False,\n",
       "  'cell': False,\n",
       "  'thriller': False,\n",
       "  'lie': False,\n",
       "  'skin': False,\n",
       "  'goofy': False,\n",
       "  'russell': False,\n",
       "  ':': True,\n",
       "  'notable': False,\n",
       "  'themes': False,\n",
       "  'straight': False,\n",
       "  'finn': False,\n",
       "  'girlfriend': False,\n",
       "  '8mm': False,\n",
       "  'ago': False,\n",
       "  'light': False,\n",
       "  'casting': False,\n",
       "  'line': False,\n",
       "  'flaw': False,\n",
       "  'company': False,\n",
       "  'read': False,\n",
       "  'feeling': False,\n",
       "  'german': False,\n",
       "  'released': False,\n",
       "  'aliens': False,\n",
       "  'troubled': False,\n",
       "  'husband': False,\n",
       "  'time': False,\n",
       "  'de': True,\n",
       "  'cutting': False,\n",
       "  'make': False,\n",
       "  'anybody': False,\n",
       "  'headed': False,\n",
       "  'future': False,\n",
       "  'shop': False,\n",
       "  'excitement': False,\n",
       "  'fallen': False,\n",
       "  'show': False,\n",
       "  'usual': False,\n",
       "  'phone': False,\n",
       "  'fashioned': False,\n",
       "  'next': True,\n",
       "  'earth': False,\n",
       "  'makeup': False,\n",
       "  'roberts': False,\n",
       "  'stay': False,\n",
       "  'hunting': False,\n",
       "  'gets': False,\n",
       "  'gonna': False,\n",
       "  'episode': False,\n",
       "  'train': False,\n",
       "  'magazine': False,\n",
       "  'mile': False,\n",
       "  'wooden': False,\n",
       "  'elements': False,\n",
       "  'send': False,\n",
       "  'damn': False,\n",
       "  'burton': False,\n",
       "  'gang': False,\n",
       "  'fashion': False,\n",
       "  'example': False,\n",
       "  'dialog': False,\n",
       "  'getting': False,\n",
       "  'apparently': False,\n",
       "  'solid': False,\n",
       "  'reference': False,\n",
       "  'reminded': False,\n",
       "  'actual': False,\n",
       "  'way': True,\n",
       "  ']': False,\n",
       "  'similar': True,\n",
       "  'feelings': False,\n",
       "  'act': False,\n",
       "  'promising': False,\n",
       "  'julia': False,\n",
       "  'disbelief': False,\n",
       "  'fans': False,\n",
       "  'bastard': False,\n",
       "  'heaven': False,\n",
       "  'waiting': False,\n",
       "  'mainstream': False,\n",
       "  'photography': False,\n",
       "  'frame': False,\n",
       "  'trade': False,\n",
       "  'necessary': False,\n",
       "  'drive': False,\n",
       "  'gore': False,\n",
       "  'talking': False,\n",
       "  'conversation': False,\n",
       "  'hackman': False,\n",
       "  'soap': False,\n",
       "  'laura': False,\n",
       "  'cox': False,\n",
       "  'program': False,\n",
       "  'energetic': False,\n",
       "  'com': False,\n",
       "  'moral': False,\n",
       "  'course': False,\n",
       "  'alas': False,\n",
       "  'keaton': False,\n",
       "  'murphy': False,\n",
       "  'baseball': False,\n",
       "  'humor': False,\n",
       "  'added': False,\n",
       "  'fly': False,\n",
       "  'bottom': False,\n",
       "  'lover': False,\n",
       "  'feel': True,\n",
       "  'teen': False,\n",
       "  'introduces': False,\n",
       "  'appears': True,\n",
       "  'scene': True,\n",
       "  'degree': False,\n",
       "  'lynch': True,\n",
       "  'freedom': True,\n",
       "  'army': True,\n",
       "  'richards': False,\n",
       "  'academy': False,\n",
       "  'factor': False,\n",
       "  'wall': False,\n",
       "  'stuff': False,\n",
       "  'numbers': False,\n",
       "  'funniest': False,\n",
       "  'empty': False,\n",
       "  'though': False,\n",
       "  'well': False,\n",
       "  'gives': False,\n",
       "  'baker': False,\n",
       "  'battle': False,\n",
       "  'wrestling': False,\n",
       "  'imagine': False,\n",
       "  'language': True,\n",
       "  'keanu': False,\n",
       "  'notion': True,\n",
       "  'study': False,\n",
       "  'loves': False,\n",
       "  'sequel': False,\n",
       "  'charm': False,\n",
       "  'still': False,\n",
       "  'consider': False,\n",
       "  'rape': False,\n",
       "  'woods': False,\n",
       "  'serial': False,\n",
       "  'computer': False,\n",
       "  'subtle': False,\n",
       "  'emotions': False,\n",
       "  'writer': False,\n",
       "  'ahead': False,\n",
       "  'mildly': False,\n",
       "  'trio': False,\n",
       "  'money': False,\n",
       "  'editor': False,\n",
       "  'especially': False,\n",
       "  'replaced': False,\n",
       "  'gene': False,\n",
       "  'sick': False,\n",
       "  'nomination': False,\n",
       "  'screening': False,\n",
       "  'complicated': False,\n",
       "  'imagery': False,\n",
       "  'plane': False,\n",
       "  'rival': False,\n",
       "  'barrymore': False,\n",
       "  'leader': False,\n",
       "  'pig': False,\n",
       "  'path': False,\n",
       "  'sound': False,\n",
       "  '+': False,\n",
       "  'hey': False,\n",
       "  'avoid': False,\n",
       "  'moore': False,\n",
       "  'trailer': False,\n",
       "  'spielberg': False,\n",
       "  'religious': True,\n",
       "  'kids': False,\n",
       "  'boring': False,\n",
       "  'nine': False,\n",
       "  'worthy': False,\n",
       "  'convince': False,\n",
       "  'finding': False,\n",
       "  'ended': False,\n",
       "  'crap': False,\n",
       "  'snipes': False,\n",
       "  'halfway': False,\n",
       "  'happened': False,\n",
       "  'carol': False,\n",
       "  'wes': False,\n",
       "  'tell': False,\n",
       "  'loving': False,\n",
       "  'shows': False,\n",
       "  'network': False,\n",
       "  'co': False,\n",
       "  'lonely': False,\n",
       "  'pam': False,\n",
       "  'window': False,\n",
       "  'mess': False,\n",
       "  'around': False,\n",
       "  'appeared': False,\n",
       "  'attack': False,\n",
       "  ';': True,\n",
       "  'besides': False,\n",
       "  'files': False,\n",
       "  'position': False,\n",
       "  'touches': False,\n",
       "  'joan': False,\n",
       "  'hit': False,\n",
       "  'hurt': False,\n",
       "  'practically': False,\n",
       "  'tragic': False,\n",
       "  'saw': False,\n",
       "  'lived': False,\n",
       "  'tense': False,\n",
       "  'described': False,\n",
       "  'acts': False,\n",
       "  'portrayed': False,\n",
       "  'female': False,\n",
       "  'box': False,\n",
       "  'effort': False,\n",
       "  'knock': False,\n",
       "  'menace': False,\n",
       "  'develops': False,\n",
       "  'loses': False,\n",
       "  'featuring': False,\n",
       "  'gorgeous': False,\n",
       "  'mother': True,\n",
       "  'dvd': False,\n",
       "  'excellent': False,\n",
       "  'vs': False,\n",
       "  'thrown': False,\n",
       "  'alice': False,\n",
       "  'music': False,\n",
       "  'williams': False,\n",
       "  'look': False,\n",
       "  'figure': False,\n",
       "  'target': False,\n",
       "  'car': False,\n",
       "  'flashback': False,\n",
       "  'actor': False,\n",
       "  'jimmy': False,\n",
       "  'executed': False,\n",
       "  'stop': False,\n",
       "  'band': True,\n",
       "  'core': False,\n",
       "  'strength': False,\n",
       "  'last': False,\n",
       "  'doubt': False,\n",
       "  'chief': False,\n",
       "  'stylish': False,\n",
       "  'potential': False,\n",
       "  'la': False,\n",
       "  'intellectual': False,\n",
       "  'robert': False,\n",
       "  'jean': False,\n",
       "  'nobody': False,\n",
       "  'ms': False,\n",
       "  'vehicle': False,\n",
       "  'many': False,\n",
       "  'manner': False,\n",
       "  'probably': False,\n",
       "  'bigger': False,\n",
       "  'really': False,\n",
       "  'frankly': False,\n",
       "  'offer': False,\n",
       "  'angle': False,\n",
       "  'brother': False,\n",
       "  'begin': False,\n",
       "  'overcome': False,\n",
       "  'generic': False,\n",
       "  'training': False,\n",
       "  'ben': False,\n",
       "  'expectations': False,\n",
       "  'final': False,\n",
       "  'interaction': False,\n",
       "  'plain': False,\n",
       "  'proceedings': False,\n",
       "  'kid': False,\n",
       "  'named': True,\n",
       "  'batman': False,\n",
       "  'sure': True,\n",
       "  'western': False,\n",
       "  'audiences': False,\n",
       "  'choice': False,\n",
       "  'romance': False,\n",
       "  'cole': False,\n",
       "  'fully': False,\n",
       "  'workers': False,\n",
       "  'importantly': False,\n",
       "  'dance': False,\n",
       "  'stuck': False,\n",
       "  'rate': False,\n",
       "  'pulled': False,\n",
       "  '[': False,\n",
       "  'starts': False,\n",
       "  'eyed': False,\n",
       "  'date': False,\n",
       "  'performers': False,\n",
       "  'awful': True,\n",
       "  'drugs': False,\n",
       "  'spy': False,\n",
       "  'pulp': False,\n",
       "  'immediately': False,\n",
       "  'derek': False,\n",
       "  'nightmare': False,\n",
       "  'post': False,\n",
       "  'fail': False,\n",
       "  'sympathy': False,\n",
       "  'classic': False,\n",
       "  'gun': False,\n",
       "  'alive': False,\n",
       "  'size': False,\n",
       "  'theatre': False,\n",
       "  'anti': True,\n",
       "  'mine': False,\n",
       "  'control': False,\n",
       "  'strangely': True,\n",
       "  'featured': False,\n",
       "  'much': True,\n",
       "  'huge': False,\n",
       "  'movies': True,\n",
       "  'hour': False,\n",
       "  'whether': False,\n",
       "  'costumes': False,\n",
       "  'efforts': False,\n",
       "  'bet': False,\n",
       "  'politics': False,\n",
       "  'offensive': False,\n",
       "  'bed': False,\n",
       "  'contact': True,\n",
       "  'stallone': False,\n",
       "  'fox': False,\n",
       "  'titanic': False,\n",
       "  'remains': False,\n",
       "  'village': False,\n",
       "  'anymore': False,\n",
       "  'society': False,\n",
       "  'likeable': False,\n",
       "  'artistic': False,\n",
       "  'handle': False,\n",
       "  'disco': False,\n",
       "  'despite': False,\n",
       "  'develop': False,\n",
       "  'ii': False,\n",
       "  'filming': False,\n",
       "  'peter': False,\n",
       "  'chemistry': False,\n",
       "  'unfortunately': False,\n",
       "  'military': False,\n",
       "  'club': False,\n",
       "  'eating': False,\n",
       "  'choices': False,\n",
       "  'multi': False,\n",
       "  'absolutely': False,\n",
       "  'popular': True,\n",
       "  'least': True,\n",
       "  'trailers': False,\n",
       "  'goodman': False,\n",
       "  'happy': False,\n",
       "  'steps': True,\n",
       "  'emotion': False,\n",
       "  'turns': True,\n",
       "  'exactly': False,\n",
       "  'metal': False,\n",
       "  'review': False,\n",
       "  'nasty': False,\n",
       "  'fantasy': False,\n",
       "  'attractive': False,\n",
       "  'tom': False,\n",
       "  'occur': False,\n",
       "  'places': False,\n",
       "  'mary': False,\n",
       "  'fortunately': False,\n",
       "  'dead': False,\n",
       "  'element': False,\n",
       "  'slapstick': False,\n",
       "  'commentary': False,\n",
       "  'steven': False,\n",
       "  'snow': False,\n",
       "  'nicholson': False,\n",
       "  'singing': False,\n",
       "  'destination': False,\n",
       "  'video': False,\n",
       "  'elaborate': False,\n",
       "  'lives': False,\n",
       "  'awkward': False,\n",
       "  'falling': False,\n",
       "  'impressive': False,\n",
       "  'ending': False,\n",
       "  'sequence': False,\n",
       "  '3': False,\n",
       "  'risk': False,\n",
       "  'moves': False,\n",
       "  'fighting': False,\n",
       "  'hundred': False,\n",
       "  'puts': False,\n",
       "  'captured': False,\n",
       "  'secret': False,\n",
       "  'conventional': False,\n",
       "  'sign': False,\n",
       "  'hanging': False,\n",
       "  'danny': False,\n",
       "  'mafia': False,\n",
       "  'focus': False,\n",
       "  'terry': False,\n",
       "  'sixth': False,\n",
       "  'grow': False,\n",
       "  'orders': False,\n",
       "  'destruction': False,\n",
       "  'spiritual': False,\n",
       "  'else': False,\n",
       "  'confused': True,\n",
       "  'blown': False,\n",
       "  'jerry': False,\n",
       "  'wrote': False,\n",
       "  'root': False,\n",
       "  'critique': False,\n",
       "  'met': False,\n",
       "  'rent': False,\n",
       "  'place': False,\n",
       "  'excuse': False,\n",
       "  'creepy': False,\n",
       "  'okay': False,\n",
       "  'rarely': False,\n",
       "  'camera': False,\n",
       "  'glenn': False,\n",
       "  'substance': False,\n",
       "  'arquette': False,\n",
       "  'great': False,\n",
       "  ...},\n",
       " 'pos')"
      ]
     },
     "execution_count": 99,
     "metadata": {},
     "output_type": "execute_result"
    }
   ],
   "source": [
    "featuresets[0]"
   ]
  },
  {
   "cell_type": "code",
   "execution_count": 100,
   "metadata": {
    "collapsed": true
   },
   "outputs": [],
   "source": [
    "training_set = featuresets[:1500]\n",
    "testing_set = featuresets[1500:]"
   ]
  },
  {
   "cell_type": "code",
   "execution_count": 102,
   "metadata": {
    "collapsed": true
   },
   "outputs": [],
   "source": [
    "classifier = nltk.NaiveBayesClassifier.train(training_set)"
   ]
  },
  {
   "cell_type": "code",
   "execution_count": 104,
   "metadata": {},
   "outputs": [
    {
     "data": {
      "text/plain": [
       "0.752"
      ]
     },
     "execution_count": 104,
     "metadata": {},
     "output_type": "execute_result"
    }
   ],
   "source": [
    "nltk.classify.accuracy(classifier, testing_set)"
   ]
  },
  {
   "cell_type": "code",
   "execution_count": 105,
   "metadata": {},
   "outputs": [
    {
     "name": "stdout",
     "output_type": "stream",
     "text": [
      "Most Informative Features\n",
      "                  seagal = True              neg : pos    =     10.8 : 1.0\n",
      "             outstanding = True              pos : neg    =     10.5 : 1.0\n",
      "                   anger = True              pos : neg    =      9.7 : 1.0\n",
      "                   jolie = True              neg : pos    =      8.9 : 1.0\n",
      "                  prinze = True              neg : pos    =      8.9 : 1.0\n",
      "              henstridge = True              neg : pos    =      7.5 : 1.0\n",
      "                 garbage = True              neg : pos    =      7.3 : 1.0\n",
      "             wonderfully = True              pos : neg    =      7.1 : 1.0\n",
      "                 idiotic = True              neg : pos    =      6.5 : 1.0\n",
      "                   mulan = True              pos : neg    =      6.4 : 1.0\n",
      "                  poorly = True              neg : pos    =      6.3 : 1.0\n",
      "                   damon = True              pos : neg    =      6.2 : 1.0\n",
      "               innocence = True              pos : neg    =      6.0 : 1.0\n",
      "            breathtaking = True              pos : neg    =      6.0 : 1.0\n",
      "             beautifully = True              pos : neg    =      5.8 : 1.0\n"
     ]
    }
   ],
   "source": [
    "classifier.show_most_informative_features(15)"
   ]
  },
  {
   "cell_type": "code",
   "execution_count": 106,
   "metadata": {
    "collapsed": true
   },
   "outputs": [],
   "source": [
    "from nltk.classify.scikitlearn import SklearnClassifier\n",
    "\n",
    "from sklearn.svm import SVC"
   ]
  },
  {
   "cell_type": "code",
   "execution_count": 108,
   "metadata": {},
   "outputs": [
    {
     "data": {
      "text/plain": [
       "0.708"
      ]
     },
     "execution_count": 108,
     "metadata": {},
     "output_type": "execute_result"
    }
   ],
   "source": [
    "SVC_classifier = SklearnClassifier(SVC())\n",
    "SVC_classifier.train(training_set)\n",
    "nltk.classify.accuracy(SVC_classifier, testing_set)"
   ]
  },
  {
   "cell_type": "code",
   "execution_count": 109,
   "metadata": {
    "collapsed": true
   },
   "outputs": [],
   "source": [
    "import pickle"
   ]
  },
  {
   "cell_type": "code",
   "execution_count": 110,
   "metadata": {
    "collapsed": true
   },
   "outputs": [],
   "source": [
    "save_classifier = open(\"naivebayes.pickle\", \"wb\")\n",
    "pickle.dump(classifier, save_classifier)\n",
    "save_classifier.close()"
   ]
  },
  {
   "cell_type": "code",
   "execution_count": 111,
   "metadata": {
    "collapsed": true
   },
   "outputs": [],
   "source": [
    "classifier_new = open(\"naivebayes.pickle\", \"rb\")\n",
    "classifier = pickle.load(classifier_new)\n",
    "classifier_new.close()"
   ]
  },
  {
   "cell_type": "code",
   "execution_count": 112,
   "metadata": {
    "collapsed": true
   },
   "outputs": [],
   "source": [
    "train_set = (\"The sky is blue.\", \"The sun is bright\")"
   ]
  },
  {
   "cell_type": "code",
   "execution_count": 113,
   "metadata": {
    "collapsed": true
   },
   "outputs": [],
   "source": [
    "from sklearn.feature_extraction.text import CountVectorizer"
   ]
  },
  {
   "cell_type": "code",
   "execution_count": 114,
   "metadata": {
    "collapsed": true
   },
   "outputs": [],
   "source": [
    "count_vec = CountVectorizer()"
   ]
  },
  {
   "cell_type": "code",
   "execution_count": 116,
   "metadata": {},
   "outputs": [
    {
     "data": {
      "text/plain": [
       "<2x6 sparse matrix of type '<class 'numpy.int64'>'\n",
       "\twith 8 stored elements in Compressed Sparse Row format>"
      ]
     },
     "execution_count": 116,
     "metadata": {},
     "output_type": "execute_result"
    }
   ],
   "source": [
    "count_vec.fit_transform(train_set)"
   ]
  },
  {
   "cell_type": "code",
   "execution_count": 117,
   "metadata": {},
   "outputs": [
    {
     "data": {
      "text/plain": [
       "['blue', 'bright', 'is', 'sky', 'sun', 'the']"
      ]
     },
     "execution_count": 117,
     "metadata": {},
     "output_type": "execute_result"
    }
   ],
   "source": [
    "count_vec.get_feature_names()"
   ]
  },
  {
   "cell_type": "code",
   "execution_count": 120,
   "metadata": {
    "collapsed": true
   },
   "outputs": [],
   "source": [
    "test_sen = (\"The sky is bright and blue\", \"Bright day\")"
   ]
  },
  {
   "cell_type": "code",
   "execution_count": 121,
   "metadata": {
    "collapsed": true
   },
   "outputs": [],
   "source": [
    "freq_term = count_vec.transform(test_sen)"
   ]
  },
  {
   "cell_type": "code",
   "execution_count": 122,
   "metadata": {},
   "outputs": [
    {
     "data": {
      "text/plain": [
       "matrix([[1, 1, 1, 1, 0, 1],\n",
       "        [0, 1, 0, 0, 0, 0]])"
      ]
     },
     "execution_count": 122,
     "metadata": {},
     "output_type": "execute_result"
    }
   ],
   "source": [
    "freq_term.todense()"
   ]
  },
  {
   "cell_type": "code",
   "execution_count": 123,
   "metadata": {
    "collapsed": true
   },
   "outputs": [],
   "source": [
    "reviews = []\n",
    "categories = []\n",
    "for (rev, category) in documents:\n",
    "    reviews.append(rev)\n",
    "    categories.append(category)"
   ]
  },
  {
   "cell_type": "code",
   "execution_count": 124,
   "metadata": {
    "collapsed": true
   },
   "outputs": [],
   "source": [
    "from nltk import pos_tag\n",
    "from nltk.stem import WordNetLemmatizer\n",
    "from nltk.corpus import wordnet"
   ]
  },
  {
   "cell_type": "code",
   "execution_count": 125,
   "metadata": {
    "collapsed": true
   },
   "outputs": [],
   "source": [
    "lemmatizer = WordNetLemmatizer()"
   ]
  },
  {
   "cell_type": "code",
   "execution_count": 133,
   "metadata": {
    "collapsed": true
   },
   "outputs": [],
   "source": [
    "def get_simple_pos(tag):\n",
    "    \n",
    "    if tag.startswith('J'):\n",
    "        return wordnet.ADJ\n",
    "    elif tag.startswith('V'):\n",
    "        return wordnet.VERB\n",
    "    elif tag.startswith('N'):\n",
    "        return wordnet.NOUN\n",
    "    elif tag.startswith('R'):\n",
    "        return wordnet.ADV\n",
    "    else:\n",
    "        return wordnet.NOUN"
   ]
  },
  {
   "cell_type": "code",
   "execution_count": 134,
   "metadata": {
    "collapsed": true
   },
   "outputs": [],
   "source": [
    "def clean_data(data):\n",
    "    meaningful_words = []\n",
    "    for w in data:\n",
    "        if w.lower() not in stops:\n",
    "            pos = pos_tag([w])\n",
    "           # print(pos)\n",
    "         #  if get_simple_tag(pos)\n",
    "            n_word = lemmatizer.lemmatize(w, pos = get_simple_pos(pos[0][1]))\n",
    "            meaningful_words.append(n_word.lower())\n",
    "    return (\" \".join(meaningful_words))"
   ]
  },
  {
   "cell_type": "code",
   "execution_count": 135,
   "metadata": {
    "collapsed": true
   },
   "outputs": [],
   "source": [
    "clean_review = clean_data(reviews[0])"
   ]
  },
  {
   "cell_type": "code",
   "execution_count": 136,
   "metadata": {},
   "outputs": [
    {
     "data": {
      "text/plain": [
       "'spent entire life awful little apartment raise care imprison domineer mother inspires love fear instills similar love fear jesus rudimentary grasp language mouth monosyllable repetition mother phrase taught world outside fatally poisonous ; mother don gasmask whenever go door 35 year old body child mind spirit premise bad boy bubby defiantly original australian movie man call bubby nicholas hope spent entire life awful little apartment etc etc one day father ralph cotterill appear father shabby heel priest appear permanently misplace religion unsurprisingly thrill way boy turn however rather pleased renew acquaintance mother claire benito point ample breast soon copulate dingy couch bubby crouch confuse next room acutely aware mother devote attention new interest bubby relationship world may warp least stable father arrival disturbs precarious balance cause oedipal conflict end -- freud would pleased -- violence result freedom bubby intuits father arrival air outside breathable : leaf apartment past world behind far good first thirty minute bad boy bubby bring u point quite brilliant movie best stay within constraint bubby hermetic two room universe follow unrelentingly implication premise : bubby use mother sex unwittingly suffocates pet cat cellophane terrifed notion jesus beat senseless sin grim savage appal also strangely tender -- de heer imagine life bizarre bubby exaggerate comic grotesqe purpose simply empathizes observes might like intensity opening scene minimalist mise en scene immerses u claustrophobic environment seem decayed stratum world owes much david lynch eraserhead least ambient industrial white noise soundtrack thirty minute movie maintains feel mood reality seem far remove de heer let bubby brings contact world film never quite recovers unlikely hero find port adelaide wanders street meet people suffers learns survives seduce young woman salvation army band anti social half wit sense hygiene manages get laid mere hour escape sort question film encourages wisely ; give free pizza sympathetic waitress ; insult traffic cop punch stomach ; share beer back truck rock group ; imprison rap ; becomes translator mentally handicapped people whose speech impaired beyond comprehension ; love motherly large breast nurse carmel johnson go turn inventive silly tasteless endear sometimes thing de heer never seem sure bubby interface real world : tone shift uneasily fable realism satire back scene try touch base believable version reality weak ; film best understood kind parable indeed religious implication bubby experience foreground : icon jesus cross hang mother wall bubby don priest collar steal father church organ play atheist lecture necessity unbelief woman redeems name angel manifold stress world shatter bubby mind fragment psychosis ; rather world accomodates heals although de heer touch time overbear bubby salvation touch ; seemd first harsh lesson damage effect social construction reality becomes na humanist tale improbable hope hapless rock group write song bubby sing give gift community return favour step stage one night becomes frontman turn fragment impression experience performance art turn band popular draw innocence triumph bubby becomes holy fool idiot savant grace u wisdom strange turn event surprised bad boy bubby like movie'"
      ]
     },
     "execution_count": 136,
     "metadata": {},
     "output_type": "execute_result"
    }
   ],
   "source": [
    "clean_review"
   ]
  },
  {
   "cell_type": "code",
   "execution_count": 137,
   "metadata": {
    "collapsed": true
   },
   "outputs": [],
   "source": [
    "clean_reviews = [clean_data(review) for review in reviews]"
   ]
  },
  {
   "cell_type": "code",
   "execution_count": 138,
   "metadata": {},
   "outputs": [
    {
     "name": "stderr",
     "output_type": "stream",
     "text": [
      "/home/chhavi/anaconda3/lib/python3.5/site-packages/sklearn/cross_validation.py:44: DeprecationWarning: This module was deprecated in version 0.18 in favor of the model_selection module into which all the refactored classes and functions are moved. Also note that the interface of the new CV iterators are different from that of this module. This module will be removed in 0.20.\n",
      "  \"This module will be removed in 0.20.\", DeprecationWarning)\n"
     ]
    }
   ],
   "source": [
    "from sklearn.cross_validation import train_test_split"
   ]
  },
  {
   "cell_type": "code",
   "execution_count": 139,
   "metadata": {
    "collapsed": true
   },
   "outputs": [],
   "source": [
    "x_train, x_test, y_train, y_test = train_test_split(clean_reviews, categories, test_size = 0.2)"
   ]
  },
  {
   "cell_type": "code",
   "execution_count": 140,
   "metadata": {
    "collapsed": true
   },
   "outputs": [],
   "source": [
    "count_vect = CountVectorizer(analyzer = \"word\", max_features = 4500)"
   ]
  },
  {
   "cell_type": "code",
   "execution_count": 142,
   "metadata": {
    "collapsed": true
   },
   "outputs": [],
   "source": [
    "train_transformed = count_vect.fit_transform(x_train)"
   ]
  },
  {
   "cell_type": "code",
   "execution_count": 144,
   "metadata": {},
   "outputs": [
    {
     "data": {
      "text/plain": [
       "(1600, 4500)"
      ]
     },
     "execution_count": 144,
     "metadata": {},
     "output_type": "execute_result"
    }
   ],
   "source": [
    "train_transformed.shape"
   ]
  },
  {
   "cell_type": "code",
   "execution_count": 145,
   "metadata": {
    "collapsed": true
   },
   "outputs": [],
   "source": [
    "test_transformed = count_vect.transform(x_test)"
   ]
  },
  {
   "cell_type": "code",
   "execution_count": null,
   "metadata": {
    "collapsed": true
   },
   "outputs": [],
   "source": []
  }
 ],
 "metadata": {
  "anaconda-cloud": {},
  "kernelspec": {
   "display_name": "Python 3",
   "language": "python",
   "name": "python3"
  },
  "language_info": {
   "codemirror_mode": {
    "name": "ipython",
    "version": 3
   },
   "file_extension": ".py",
   "mimetype": "text/x-python",
   "name": "python",
   "nbconvert_exporter": "python",
   "pygments_lexer": "ipython3",
   "version": "3.6.2"
  }
 },
 "nbformat": 4,
 "nbformat_minor": 1
}
